{
 "cells": [
  {
   "cell_type": "code",
   "execution_count": null,
   "metadata": {
    "collapsed": false
   },
   "outputs": [
    {
     "data": {
      "text/html": [
       "\n",
       "    <div class=\"bk-root\">\n",
       "        <a href=\"http://bokeh.pydata.org\" target=\"_blank\" class=\"bk-logo bk-logo-small bk-logo-notebook\"></a>\n",
       "        <span id=\"7c7174d1-2e77-4720-a68e-75dc75981aad\">Loading BokehJS ...</span>\n",
       "    </div>"
      ]
     },
     "metadata": {},
     "output_type": "display_data"
    },
    {
     "data": {
      "application/javascript": [
       "\n",
       "(function(global) {\n",
       "  function now() {\n",
       "    return new Date();\n",
       "  }\n",
       "\n",
       "  var force = \"1\";\n",
       "\n",
       "  if (typeof (window._bokeh_onload_callbacks) === \"undefined\" || force !== \"\") {\n",
       "    window._bokeh_onload_callbacks = [];\n",
       "    window._bokeh_is_loading = undefined;\n",
       "  }\n",
       "\n",
       "\n",
       "  \n",
       "  if (typeof (window._bokeh_timeout) === \"undefined\" || force !== \"\") {\n",
       "    window._bokeh_timeout = Date.now() + 5000;\n",
       "    window._bokeh_failed_load = false;\n",
       "  }\n",
       "\n",
       "  var NB_LOAD_WARNING = {'data': {'text/html':\n",
       "     \"<div style='background-color: #fdd'>\\n\"+\n",
       "     \"<p>\\n\"+\n",
       "     \"BokehJS does not appear to have successfully loaded. If loading BokehJS from CDN, this \\n\"+\n",
       "     \"may be due to a slow or bad network connection. Possible fixes:\\n\"+\n",
       "     \"</p>\\n\"+\n",
       "     \"<ul>\\n\"+\n",
       "     \"<li>re-rerun `output_notebook()` to attempt to load from CDN again, or</li>\\n\"+\n",
       "     \"<li>use INLINE resources instead, as so:</li>\\n\"+\n",
       "     \"</ul>\\n\"+\n",
       "     \"<code>\\n\"+\n",
       "     \"from bokeh.resources import INLINE\\n\"+\n",
       "     \"output_notebook(resources=INLINE)\\n\"+\n",
       "     \"</code>\\n\"+\n",
       "     \"</div>\"}};\n",
       "\n",
       "  function display_loaded() {\n",
       "    if (window.Bokeh !== undefined) {\n",
       "      Bokeh.$(\"#7c7174d1-2e77-4720-a68e-75dc75981aad\").text(\"BokehJS successfully loaded.\");\n",
       "    } else if (Date.now() < window._bokeh_timeout) {\n",
       "      setTimeout(display_loaded, 100)\n",
       "    }\n",
       "  }\n",
       "\n",
       "  function run_callbacks() {\n",
       "    window._bokeh_onload_callbacks.forEach(function(callback) { callback() });\n",
       "    delete window._bokeh_onload_callbacks\n",
       "    console.info(\"Bokeh: all callbacks have finished\");\n",
       "  }\n",
       "\n",
       "  function load_libs(js_urls, callback) {\n",
       "    window._bokeh_onload_callbacks.push(callback);\n",
       "    if (window._bokeh_is_loading > 0) {\n",
       "      console.log(\"Bokeh: BokehJS is being loaded, scheduling callback at\", now());\n",
       "      return null;\n",
       "    }\n",
       "    if (js_urls == null || js_urls.length === 0) {\n",
       "      run_callbacks();\n",
       "      return null;\n",
       "    }\n",
       "    console.log(\"Bokeh: BokehJS not loaded, scheduling load and callback at\", now());\n",
       "    window._bokeh_is_loading = js_urls.length;\n",
       "    for (var i = 0; i < js_urls.length; i++) {\n",
       "      var url = js_urls[i];\n",
       "      var s = document.createElement('script');\n",
       "      s.src = url;\n",
       "      s.async = false;\n",
       "      s.onreadystatechange = s.onload = function() {\n",
       "        window._bokeh_is_loading--;\n",
       "        if (window._bokeh_is_loading === 0) {\n",
       "          console.log(\"Bokeh: all BokehJS libraries loaded\");\n",
       "          run_callbacks()\n",
       "        }\n",
       "      };\n",
       "      s.onerror = function() {\n",
       "        console.warn(\"failed to load library \" + url);\n",
       "      };\n",
       "      console.log(\"Bokeh: injecting script tag for BokehJS library: \", url);\n",
       "      document.getElementsByTagName(\"head\")[0].appendChild(s);\n",
       "    }\n",
       "  };var element = document.getElementById(\"7c7174d1-2e77-4720-a68e-75dc75981aad\");\n",
       "  if (element == null) {\n",
       "    console.log(\"Bokeh: ERROR: autoload.js configured with elementid '7c7174d1-2e77-4720-a68e-75dc75981aad' but no matching script tag was found. \")\n",
       "    return false;\n",
       "  }\n",
       "\n",
       "  var js_urls = ['https://cdn.pydata.org/bokeh/release/bokeh-0.12.2.min.js', 'https://cdn.pydata.org/bokeh/release/bokeh-widgets-0.12.2.min.js', 'https://cdn.pydata.org/bokeh/release/bokeh-compiler-0.12.2.min.js'];\n",
       "\n",
       "  var inline_js = [\n",
       "    function(Bokeh) {\n",
       "      Bokeh.set_log_level(\"info\");\n",
       "    },\n",
       "    \n",
       "    function(Bokeh) {\n",
       "      \n",
       "      Bokeh.$(\"#7c7174d1-2e77-4720-a68e-75dc75981aad\").text(\"BokehJS is loading...\");\n",
       "    },\n",
       "    function(Bokeh) {\n",
       "      console.log(\"Bokeh: injecting CSS: https://cdn.pydata.org/bokeh/release/bokeh-0.12.2.min.css\");\n",
       "      Bokeh.embed.inject_css(\"https://cdn.pydata.org/bokeh/release/bokeh-0.12.2.min.css\");\n",
       "      console.log(\"Bokeh: injecting CSS: https://cdn.pydata.org/bokeh/release/bokeh-widgets-0.12.2.min.css\");\n",
       "      Bokeh.embed.inject_css(\"https://cdn.pydata.org/bokeh/release/bokeh-widgets-0.12.2.min.css\");\n",
       "    }\n",
       "  ];\n",
       "\n",
       "  function run_inline_js() {\n",
       "    \n",
       "    if ((window.Bokeh !== undefined) || (force === \"1\")) {\n",
       "      for (var i = 0; i < inline_js.length; i++) {\n",
       "        inline_js[i](window.Bokeh);\n",
       "      }if (force === \"1\") {\n",
       "        display_loaded();\n",
       "      }} else if (Date.now() < window._bokeh_timeout) {\n",
       "      setTimeout(run_inline_js, 100);\n",
       "    } else if (!window._bokeh_failed_load) {\n",
       "      console.log(\"Bokeh: BokehJS failed to load within specified timeout.\");\n",
       "      window._bokeh_failed_load = true;\n",
       "    } else if (!force) {\n",
       "      var cell = $(\"#7c7174d1-2e77-4720-a68e-75dc75981aad\").parents('.cell').data().cell;\n",
       "      cell.output_area.append_execute_result(NB_LOAD_WARNING)\n",
       "    }\n",
       "\n",
       "  }\n",
       "\n",
       "  if (window._bokeh_is_loading === 0) {\n",
       "    console.log(\"Bokeh: BokehJS loaded, going straight to plotting\");\n",
       "    run_inline_js();\n",
       "  } else {\n",
       "    load_libs(js_urls, function() {\n",
       "      console.log(\"Bokeh: BokehJS plotting callback run at\", now());\n",
       "      run_inline_js();\n",
       "    });\n",
       "  }\n",
       "}(this));"
      ]
     },
     "metadata": {},
     "output_type": "display_data"
    },
    {
     "name": "stdout",
     "output_type": "stream",
     "text": [
      "This notebook was last updated: Wed Sep 14 16:06:11 2016 UTC\n"
     ]
    }
   ],
   "source": [
    "import time\n",
    "\n",
    "import bokeh.plotting\n",
    "bokeh.plotting.output_notebook()\n",
    "now=time.gmtime()\n",
    "print(\"This notebook was last updated: \"+time.asctime(now)+\" UTC\")"
   ]
  },
  {
   "cell_type": "markdown",
   "metadata": {},
   "source": []
  },
  {
   "cell_type": "code",
   "execution_count": null,
   "metadata": {
    "collapsed": false,
    "scrolled": true
   },
   "outputs": [
    {
     "name": "stdout",
     "output_type": "stream",
     "text": [
      "Downloading https://raw.githubusercontent.com/dsavransky/EXOSIMS/master/EXOSIMS/StarCatalog/mission_exocat.votable [Done]\n"
     ]
    },
    {
     "name": "stderr",
     "output_type": "stream",
     "text": [
      "WARNING: W22: https://raw.githubusercontent.com/dsavransky/EXOSIMS/master/EXOSIMS/StarCatalog/mission_exocat.votable:5:0: W22: The DEFINITIONS element is deprecated in VOTable 1.1.  Ignoring [astropy.io.votable.tree]\n",
      "WARNING: W27: https://raw.githubusercontent.com/dsavransky/EXOSIMS/master/EXOSIMS/StarCatalog/mission_exocat.votable:6:0: W27: COOSYS deprecated in VOTable 1.2 [astropy.io.votable.tree]\n",
      "WARNING: W06: https://raw.githubusercontent.com/dsavransky/EXOSIMS/master/EXOSIMS/StarCatalog/mission_exocat.votable:25:0: W06: Invalid UCD 'POS_EQ_RA_MAIN': Unknown word 'POS_EQ_RA_MAIN' [astropy.io.votable.tree]\n",
      "WARNING: W06: https://raw.githubusercontent.com/dsavransky/EXOSIMS/master/EXOSIMS/StarCatalog/mission_exocat.votable:26:0: W06: Invalid UCD 'POS_EQ_DEC_MAIN': Unknown word 'POS_EQ_DEC_MAIN' [astropy.io.votable.tree]\n",
      "WARNING: W50: https://raw.githubusercontent.com/dsavransky/EXOSIMS/master/EXOSIMS/StarCatalog/mission_exocat.votable:30:0: W50: Invalid unit string 'mags' [astropy.io.votable.tree]\n",
      "WARNING: W50: https://raw.githubusercontent.com/dsavransky/EXOSIMS/master/EXOSIMS/StarCatalog/mission_exocat.votable:31:0: W50: Invalid unit string 'mags' [astropy.io.votable.tree]\n",
      "WARNING: W50: https://raw.githubusercontent.com/dsavransky/EXOSIMS/master/EXOSIMS/StarCatalog/mission_exocat.votable:33:0: W50: Invalid unit string 'mags' [astropy.io.votable.tree]\n",
      "WARNING: W50: https://raw.githubusercontent.com/dsavransky/EXOSIMS/master/EXOSIMS/StarCatalog/mission_exocat.votable:34:0: W50: Invalid unit string 'mags' [astropy.io.votable.tree]\n",
      "WARNING: W50: https://raw.githubusercontent.com/dsavransky/EXOSIMS/master/EXOSIMS/StarCatalog/mission_exocat.votable:42:0: W50: Invalid unit string 'mags' [astropy.io.votable.tree]\n",
      "WARNING: W50: https://raw.githubusercontent.com/dsavransky/EXOSIMS/master/EXOSIMS/StarCatalog/mission_exocat.votable:48:0: W50: Invalid unit string 'degrees' [astropy.io.votable.tree]\n",
      "WARNING: W50: https://raw.githubusercontent.com/dsavransky/EXOSIMS/master/EXOSIMS/StarCatalog/mission_exocat.votable:49:0: W50: Invalid unit string 'degrees' [astropy.io.votable.tree]\n",
      "WARNING: W50: https://raw.githubusercontent.com/dsavransky/EXOSIMS/master/EXOSIMS/StarCatalog/mission_exocat.votable:50:0: W50: Invalid unit string 'mags' [astropy.io.votable.tree]\n",
      "WARNING: W50: https://raw.githubusercontent.com/dsavransky/EXOSIMS/master/EXOSIMS/StarCatalog/mission_exocat.votable:51:0: W50: Invalid unit string 'mags' [astropy.io.votable.tree]\n",
      "WARNING: W50: https://raw.githubusercontent.com/dsavransky/EXOSIMS/master/EXOSIMS/StarCatalog/mission_exocat.votable:53:0: W50: Invalid unit string 'mags' (suppressing further warnings of this type...) [astropy.io.votable.tree]\n",
      "WARNING: W06: https://raw.githubusercontent.com/dsavransky/EXOSIMS/master/EXOSIMS/StarCatalog/mission_exocat.votable:123:0: W06: Invalid UCD 'ID_MAIN': Unknown word 'ID_MAIN' [astropy.io.votable.tree]\n"
     ]
    },
    {
     "name": "stdout",
     "output_type": "stream",
     "text": [
      "Downloading https://raw.githubusercontent.com/dsavransky/EXOSIMS/master/EXOSIMS/PlanetPopulation/RVplanets_ipac_2016-05-15.votable [Done]\n"
     ]
    },
    {
     "name": "stderr",
     "output_type": "stream",
     "text": [
      "WARNING: W22: https://raw.githubusercontent.com/dsavransky/EXOSIMS/master/EXOSIMS/PlanetPopulation/RVplanets_ipac_2016-05-15.votable:5:0: W22: The DEFINITIONS element is deprecated in VOTable 1.1.  Ignoring [astropy.io.votable.tree]\n",
      "WARNING: W27: https://raw.githubusercontent.com/dsavransky/EXOSIMS/master/EXOSIMS/PlanetPopulation/RVplanets_ipac_2016-05-15.votable:6:0: W27: COOSYS deprecated in VOTable 1.2 [astropy.io.votable.tree]\n",
      "WARNING: W03: https://raw.githubusercontent.com/dsavransky/EXOSIMS/master/EXOSIMS/PlanetPopulation/RVplanets_ipac_2016-05-15.votable:11:0: W03: Implicitly generating an ID from a name 'For detailed descriptions of the columns, go to http://exoplanetarchive.ipac.caltech.edu/docs/documentation.html and choose the appropriate table guide.' -> 'For_detailed_descriptions_of_the_columns__go_to_http___exoplanetarchive.ipac.caltech.edu_docs_documentation.html_and_choose_the_appropriate_table_guide.' [astropy.io.votable.xmlutil]\n",
      "WARNING: W06: https://raw.githubusercontent.com/dsavransky/EXOSIMS/master/EXOSIMS/PlanetPopulation/RVplanets_ipac_2016-05-15.votable:13:0: W06: Invalid UCD 'POS_EQ_RA_MAIN': Unknown word 'POS_EQ_RA_MAIN' [astropy.io.votable.tree]\n",
      "WARNING: W50: https://raw.githubusercontent.com/dsavransky/EXOSIMS/master/EXOSIMS/PlanetPopulation/RVplanets_ipac_2016-05-15.votable:14:0: W50: Invalid unit string 'degrees' [astropy.io.votable.tree]\n",
      "WARNING: W50: https://raw.githubusercontent.com/dsavransky/EXOSIMS/master/EXOSIMS/PlanetPopulation/RVplanets_ipac_2016-05-15.votable:15:0: W50: Invalid unit string 'hours' [astropy.io.votable.tree]\n",
      "WARNING: W50: https://raw.githubusercontent.com/dsavransky/EXOSIMS/master/EXOSIMS/PlanetPopulation/RVplanets_ipac_2016-05-15.votable:16:0: W50: Invalid unit string 'hours' [astropy.io.votable.tree]\n",
      "WARNING: W06: https://raw.githubusercontent.com/dsavransky/EXOSIMS/master/EXOSIMS/PlanetPopulation/RVplanets_ipac_2016-05-15.votable:18:0: W06: Invalid UCD 'POS_EQ_DEC_MAIN': Unknown word 'POS_EQ_DEC_MAIN' [astropy.io.votable.tree]\n",
      "WARNING: W50: https://raw.githubusercontent.com/dsavransky/EXOSIMS/master/EXOSIMS/PlanetPopulation/RVplanets_ipac_2016-05-15.votable:19:0: W50: Invalid unit string 'degrees' [astropy.io.votable.tree]\n",
      "WARNING: W50: https://raw.githubusercontent.com/dsavransky/EXOSIMS/master/EXOSIMS/PlanetPopulation/RVplanets_ipac_2016-05-15.votable:21:0: W50: Invalid unit string 'degrees' [astropy.io.votable.tree]\n",
      "WARNING: W50: https://raw.githubusercontent.com/dsavransky/EXOSIMS/master/EXOSIMS/PlanetPopulation/RVplanets_ipac_2016-05-15.votable:22:0: W50: Invalid unit string 'degrees' [astropy.io.votable.tree]\n",
      "WARNING: W50: https://raw.githubusercontent.com/dsavransky/EXOSIMS/master/EXOSIMS/PlanetPopulation/RVplanets_ipac_2016-05-15.votable:23:0: W50: Invalid unit string 'degrees' [astropy.io.votable.tree]\n",
      "WARNING: W50: https://raw.githubusercontent.com/dsavransky/EXOSIMS/master/EXOSIMS/PlanetPopulation/RVplanets_ipac_2016-05-15.votable:24:0: W50: Invalid unit string 'degrees' [astropy.io.votable.tree]\n",
      "WARNING: W50: https://raw.githubusercontent.com/dsavransky/EXOSIMS/master/EXOSIMS/PlanetPopulation/RVplanets_ipac_2016-05-15.votable:25:0: W50: Invalid unit string 'degrees' [astropy.io.votable.tree]\n",
      "WARNING: W50: https://raw.githubusercontent.com/dsavransky/EXOSIMS/master/EXOSIMS/PlanetPopulation/RVplanets_ipac_2016-05-15.votable:26:0: W50: Invalid unit string 'degrees' (suppressing further warnings of this type...) [astropy.io.votable.tree]\n",
      "WARNING: W06: https://raw.githubusercontent.com/dsavransky/EXOSIMS/master/EXOSIMS/PlanetPopulation/RVplanets_ipac_2016-05-15.votable:439:0: W06: Invalid UCD 'ID_MAIN': Unknown word 'ID_MAIN' [astropy.io.votable.tree]\n"
     ]
    },
    {
     "name": "stdout",
     "output_type": "stream",
     "text": [
      "Downloading http://exoplanetarchive.ipac.caltech.edu/cgi-bin/nstedAPI/nph-nstedAPI?table=exoplanets&format=votable [Done]\n"
     ]
    },
    {
     "name": "stderr",
     "output_type": "stream",
     "text": [
      "WARNING: W22: http://exoplanetarchive.ipac.caltech.edu/cgi-bin/nstedAPI/nph-nstedAPI?table=exoplanets&format=votable:5:0: W22: The DEFINITIONS element is deprecated in VOTable 1.1.  Ignoring [astropy.io.votable.tree]\n",
      "WARNING: W27: http://exoplanetarchive.ipac.caltech.edu/cgi-bin/nstedAPI/nph-nstedAPI?table=exoplanets&format=votable:6:0: W27: COOSYS deprecated in VOTable 1.2 [astropy.io.votable.tree]\n",
      "WARNING: W03: http://exoplanetarchive.ipac.caltech.edu/cgi-bin/nstedAPI/nph-nstedAPI?table=exoplanets&format=votable:11:0: W03: Implicitly generating an ID from a name 'For detailed descriptions of the columns, go to http://exoplanetarchive.ipac.caltech.edu/docs/documentation.html and choose the appropriate table guide.' -> 'For_detailed_descriptions_of_the_columns__go_to_http___exoplanetarchive.ipac.caltech.edu_docs_documentation.html_and_choose_the_appropriate_table_guide.' [astropy.io.votable.xmlutil]\n",
      "WARNING: W50: http://exoplanetarchive.ipac.caltech.edu/cgi-bin/nstedAPI/nph-nstedAPI?table=exoplanets&format=votable:17:0: W50: Invalid unit string 'days' [astropy.io.votable.tree]\n",
      "WARNING: W50: http://exoplanetarchive.ipac.caltech.edu/cgi-bin/nstedAPI/nph-nstedAPI?table=exoplanets&format=votable:18:0: W50: Invalid unit string 'days' [astropy.io.votable.tree]\n",
      "WARNING: W50: http://exoplanetarchive.ipac.caltech.edu/cgi-bin/nstedAPI/nph-nstedAPI?table=exoplanets&format=votable:19:0: W50: Invalid unit string 'days' [astropy.io.votable.tree]\n",
      "WARNING: W50: http://exoplanetarchive.ipac.caltech.edu/cgi-bin/nstedAPI/nph-nstedAPI?table=exoplanets&format=votable:32:0: W50: Invalid unit string 'degrees' [astropy.io.votable.tree]\n",
      "WARNING: W50: http://exoplanetarchive.ipac.caltech.edu/cgi-bin/nstedAPI/nph-nstedAPI?table=exoplanets&format=votable:33:0: W50: Invalid unit string 'degrees' [astropy.io.votable.tree]\n",
      "WARNING: W50: http://exoplanetarchive.ipac.caltech.edu/cgi-bin/nstedAPI/nph-nstedAPI?table=exoplanets&format=votable:34:0: W50: Invalid unit string 'degrees' [astropy.io.votable.tree]\n",
      "WARNING: W50: http://exoplanetarchive.ipac.caltech.edu/cgi-bin/nstedAPI/nph-nstedAPI?table=exoplanets&format=votable:48:0: W50: Invalid unit string 'g/cm**3' [astropy.io.votable.tree]\n",
      "WARNING: W50: http://exoplanetarchive.ipac.caltech.edu/cgi-bin/nstedAPI/nph-nstedAPI?table=exoplanets&format=votable:49:0: W50: Invalid unit string 'g/cm**3' [astropy.io.votable.tree]\n",
      "WARNING: W50: http://exoplanetarchive.ipac.caltech.edu/cgi-bin/nstedAPI/nph-nstedAPI?table=exoplanets&format=votable:50:0: W50: Invalid unit string 'g/cm**3' [astropy.io.votable.tree]\n",
      "WARNING: W06: http://exoplanetarchive.ipac.caltech.edu/cgi-bin/nstedAPI/nph-nstedAPI?table=exoplanets&format=votable:58:0: W06: Invalid UCD 'POS_EQ_RA_MAIN': Unknown word 'POS_EQ_RA_MAIN' [astropy.io.votable.tree]\n",
      "WARNING: W50: http://exoplanetarchive.ipac.caltech.edu/cgi-bin/nstedAPI/nph-nstedAPI?table=exoplanets&format=votable:59:0: W50: Invalid unit string 'degrees' (suppressing further warnings of this type...) [astropy.io.votable.tree]\n",
      "WARNING: W06: http://exoplanetarchive.ipac.caltech.edu/cgi-bin/nstedAPI/nph-nstedAPI?table=exoplanets&format=votable:60:0: W06: Invalid UCD 'POS_EQ_DEC_MAIN': Unknown word 'POS_EQ_DEC_MAIN' [astropy.io.votable.tree]\n",
      "WARNING: W06: http://exoplanetarchive.ipac.caltech.edu/cgi-bin/nstedAPI/nph-nstedAPI?table=exoplanets&format=votable:93:0: W06: Invalid UCD 'ID_MAIN': Unknown word 'ID_MAIN' [astropy.io.votable.tree]\n"
     ]
    }
   ],
   "source": [
    "import astropy.io.votable as votab\n",
    "\n",
    "import numpy as np\n",
    "\n",
    "#download latest target lists:\n",
    "\n",
    "latest_RV_url = \"https://raw.githubusercontent.com/dsavransky/EXOSIMS/master/EXOSIMS/PlanetPopulation/RVplanets_ipac_2016-05-15.votable\"\n",
    "exoarch_confirmed_url = \"http://exoplanetarchive.ipac.caltech.edu/cgi-bin/nstedAPI/nph-nstedAPI?table=exoplanets&format=votable\"\n",
    "exoplanets_eu = \"http://www.exoplanet.eu/catalog/votable/\" #times out\n",
    "EXOSIM_stars = \"https://raw.githubusercontent.com/dsavransky/EXOSIMS/master/EXOSIMS/StarCatalog/mission_exocat.votable\"\n",
    "\n",
    "\n",
    "#parse\n",
    "exocat = votab.parse(EXOSIM_stars,).get_first_table().to_table()\n",
    "#knownRV = votab.parse(\"../EXOSIMS/EXOSIMS/PlanetPopulation/RVplanets_ipac_032216.votable\").get_first_table().to_table()\n",
    "knownRV = votab.parse(latest_RV_url).get_first_table().to_table()\n",
    "exoarchConfirmed = votab.parse(exoarch_confirmed_url).get_first_table().to_table()\n",
    "#exoplanets_dot_eu = votab.parse(exoplanets_eu).get_first_table().to_table()\n"
   ]
  },
  {
   "cell_type": "code",
   "execution_count": null,
   "metadata": {
    "collapsed": false
   },
   "outputs": [],
   "source": [
    "\n",
    "TOOLS=\"hover,crosshair,pan,wheel_zoom,box_zoom,undo,redo,reset,tap,save,box_select,poly_select,lasso_select\"\n",
    "\n",
    "p = bokeh.plotting.figure(tools=TOOLS)\n",
    "\n",
    "p.scatter(exocat['st_teff'], (exocat['st_mass']), radius=50,\n",
    "          fill_color='gray', fill_alpha=0.5,legend=\"ExoCat\",\n",
    "          line_color=None)\n",
    "\n",
    "p.scatter(knownRV['st_teff'], (knownRV[\"st_mass\"]), radius=100,\n",
    "fill_color=\"orange\", fill_alpha=0.2,legend=\"Known RV\",\n",
    "          line_color=None)\n",
    "p.xaxis.axis_label = \"T [K]\"\n",
    "p.yaxis.axis_label = \"Mass [M_sun]\"\n",
    "bokeh.plotting.show(p)\n"
   ]
  },
  {
   "cell_type": "code",
   "execution_count": null,
   "metadata": {
    "collapsed": false
   },
   "outputs": [],
   "source": [
    "p = bokeh.plotting.figure(tools=TOOLS, y_axis_type='log', x_range=(0, 10000))#, y_range=(-5, 35) )\n",
    "\n",
    "\n",
    "p.scatter(exocat['st_teff'], (exocat['st_dist']), size=5,\n",
    "          fill_color='gray', fill_alpha=0.2,legend=\"ExoCat\",\n",
    "          line_color=None)\n",
    "\n",
    "p.scatter(knownRV['st_teff'], (knownRV[\"st_dist\"]), size=10,\n",
    "fill_color=\"blue\", fill_alpha=0.2,legend=\"Known RV\",\n",
    "          line_color=None)\n",
    "\n",
    "p.scatter(exoarchConfirmed['st_teff'], (exoarchConfirmed[\"st_dist\"]), size=10,\n",
    "fill_color=\"green\", fill_alpha=0.1,legend=\"IPAC Exoplanet Archive\",\n",
    "          line_color=None)\n",
    "p.xaxis.axis_label = \"T [K]\"\n",
    "p.yaxis.axis_label = \"distance [pc]\"\n",
    "bokeh.plotting.show(p)\n",
    "\n"
   ]
  },
  {
   "cell_type": "code",
   "execution_count": null,
   "metadata": {
    "collapsed": false
   },
   "outputs": [],
   "source": [
    "p = bokeh.plotting.figure(tools=TOOLS, x_range=(0, 10000), y_range=(-5, 35) )\n",
    "\n",
    "\n",
    "p.scatter(exocat['st_teff'], (exocat['st_dist']), radius=50,\n",
    "          fill_color='gray', fill_alpha=0.2,legend=\"ExoCat\",\n",
    "          line_color=None)\n",
    "\n",
    "p.scatter(knownRV['st_teff'], (knownRV[\"st_dist\"]), radius=100,\n",
    "fill_color=\"blue\", fill_alpha=0.2,legend=\"Known RV\",\n",
    "          line_color=None)\n",
    "\n",
    "p.scatter(exoarchConfirmed['st_teff'], (exoarchConfirmed[\"st_dist\"]), radius=100,\n",
    "fill_color=\"green\", fill_alpha=0.2,legend=\"IPAC Exoplanet Archive\",\n",
    "          line_color=None)\n",
    "p.xaxis.axis_label = \"T [K]\"\n",
    "p.yaxis.axis_label = \"distance [pc]\"\n",
    "bokeh.plotting.show(p)\n",
    "\n"
   ]
  },
  {
   "cell_type": "code",
   "execution_count": null,
   "metadata": {
    "collapsed": false
   },
   "outputs": [],
   "source": [
    "def scatter_with_labels(p,x,y,names,color,legend,):\n",
    "    #data source for mouseover\n",
    "    source = bokeh.models.ColumnDataSource(data=dict(\n",
    "        x=x,\n",
    "        y=y,\n",
    "        name=[j.decode('utf-8') for j in names], #convert bytes to strings\n",
    "    ))\n",
    "\n",
    "    p.scatter(x,y, size=10,\n",
    "          fill_color=color, fill_alpha=0.4,\n",
    "              legend=legend,\n",
    "          line_color=None,source=source)\n",
    "tooltips=[(\"index\", \"$index\"),\n",
    "          (\"(x,y)\", \"(@x, @y)\"),\n",
    "          (\"name\", \"@name\")]"
   ]
  },
  {
   "cell_type": "code",
   "execution_count": null,
   "metadata": {
    "collapsed": false
   },
   "outputs": [],
   "source": [
    "hover = bokeh.models.HoverTool(tooltips=tooltips)\n",
    "\n",
    "\n",
    "tools=[hover]+[\"crosshair,pan,wheel_zoom,box_zoom,undo,redo,reset,tap,save,box_select,poly_select,lasso_select\"]\n",
    "\n",
    "p = bokeh.plotting.figure(tools=tools,x_axis_type=\"log\",  y_range=(-5, 35))#x_range=(0, 10000),  )\n",
    "\n",
    "scatter_with_labels(p,exoarchConfirmed[\"pl_orbper\"],exoarchConfirmed[\"st_dist\"],\n",
    "                    exoarchConfirmed[\"pl_hostname\"],\n",
    "                    color=\"blue\",legend=\"IPAC Exoplanet Archive\")\n",
    "\n",
    "scatter_with_labels(p,knownRV[\"pl_orbper\"],knownRV[\"st_dist\"], \n",
    "                    knownRV[\"pl_hostname\"],\n",
    "                    color=\"green\",legend=\"Known RV\")\n",
    "p.xaxis.axis_label = \"orbital period [d]\"\n",
    "p.yaxis.axis_label = \"distance [pc]\"\n",
    "\n",
    "\n",
    "\n",
    "bokeh.plotting.show(p)\n",
    "\n"
   ]
  },
  {
   "cell_type": "code",
   "execution_count": null,
   "metadata": {
    "collapsed": false
   },
   "outputs": [],
   "source": [
    "hover = bokeh.models.HoverTool(tooltips=tooltips)\n",
    "tools=[hover]+[\"crosshair,pan,wheel_zoom,box_zoom,undo,redo,reset,tap,save,box_select,poly_select,lasso_select\"]\n",
    "\n",
    "p = bokeh.plotting.figure(tools=tools,x_axis_type=\"log\",  y_range=(-5, 35),x_range=(1e-3, 1000),  )\n",
    "\n",
    "scatter_with_labels(p,exoarchConfirmed[\"pl_bmassj\"],exoarchConfirmed[\"st_dist\"],\n",
    "                    exoarchConfirmed[\"pl_hostname\"],\n",
    "                    color=\"blue\",legend=\"IPAC Exoplanet Archive\")\n",
    "\n",
    "scatter_with_labels(p,knownRV[\"pl_msinij\"],knownRV[\"st_dist\"], \n",
    "                    knownRV[\"pl_hostname\"],\n",
    "                    color=\"green\",legend=\"Known RV\")\n",
    "\n",
    "p.xaxis.axis_label = \"msini [Jupiter]\"\n",
    "p.yaxis.axis_label = \"distance [pc]\"\n",
    "\n",
    "\n",
    "\n",
    "bokeh.plotting.show(p)\n",
    "\n"
   ]
  },
  {
   "cell_type": "code",
   "execution_count": null,
   "metadata": {
    "collapsed": false
   },
   "outputs": [],
   "source": []
  },
  {
   "cell_type": "code",
   "execution_count": null,
   "metadata": {
    "collapsed": false
   },
   "outputs": [],
   "source": []
  },
  {
   "cell_type": "code",
   "execution_count": null,
   "metadata": {
    "collapsed": true
   },
   "outputs": [],
   "source": []
  }
 ],
 "metadata": {
  "anaconda-cloud": {},
  "kernelspec": {
   "display_name": "Python [conda env:wfirst]",
   "language": "python",
   "name": "conda-env-wfirst-py"
  },
  "language_info": {
   "codemirror_mode": {
    "name": "ipython",
    "version": 3
   },
   "file_extension": ".py",
   "mimetype": "text/x-python",
   "name": "python",
   "nbconvert_exporter": "python",
   "pygments_lexer": "ipython3",
   "version": "3.5.2"
  }
 },
 "nbformat": 4,
 "nbformat_minor": 1
}
