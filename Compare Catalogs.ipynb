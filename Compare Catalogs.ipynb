{
 "cells": [
  {
   "cell_type": "markdown",
   "metadata": {},
   "source": []
  },
  {
   "cell_type": "code",
   "execution_count": null,
   "metadata": {
    "collapsed": false
   },
   "outputs": [],
   "source": [
    "#import nbpresent\n",
    "#nbpresent.__version__\n"
   ]
  },
  {
   "cell_type": "code",
   "execution_count": null,
   "metadata": {
    "collapsed": false
   },
   "outputs": [],
   "source": [
    "import time\n",
    "\n",
    "import bokeh.plotting\n",
    "bokeh.plotting.output_notebook()\n",
    "now=time.gmtime()\n",
    "print(\"This notebook was last updated: \"+time.asctime(now)+\" UTC\")"
   ]
  },
  {
   "cell_type": "markdown",
   "metadata": {},
   "source": [
    "Let's compare catalogs"
   ]
  },
  {
   "cell_type": "code",
   "execution_count": null,
   "metadata": {
    "collapsed": false
   },
   "outputs": [],
   "source": [
    "import astropy.io.votable as votab\n",
    "import astropy.io.ascii \n",
    "import astropy.units as u\n",
    "\n",
    "import numpy as np\n",
    "\n",
    "#download latest target lists:\n",
    "\n",
    "latest_RV_url = \"https://raw.githubusercontent.com/dsavransky/EXOSIMS/master/EXOSIMS/PlanetPopulation/RVplanets_ipac_2016-05-15.votable\"\n",
    "exoarch_confirmed_url = \"http://exoplanetarchive.ipac.caltech.edu/cgi-bin/nstedAPI/nph-nstedAPI?table=exoplanets&format=votable&select=*\"\n",
    "exoplanets_eu_url = \"http://www.exoplanet.eu/catalog/votable/\" \n",
    "EXOSIM_stars = \"https://raw.githubusercontent.com/dsavransky/EXOSIMS/master/EXOSIMS/StarCatalog/mission_exocat.votable\"\n",
    "oec_latest_tab = \"https://raw.githubusercontent.com/douglase/oec_tables/master/comma_separated/open_exoplanet_catalogue.txt\"\n",
    "#right now some BD objects in the main catalog have improperly formatted names, this is fixed in the branch above.\n",
    "\n",
    "#my fork adds it and a pull request has been submitted: https://github.com/OpenExoplanetCatalogue/oec_tables/pull/3\n",
    "\n",
    "\n",
    "\n",
    "#(right now this misses a couple of planets that are on multiple OEC lists and are confirmed and where there confirmed status is not the first entry. \n",
    "#FIX! "
   ]
  },
  {
   "cell_type": "code",
   "execution_count": null,
   "metadata": {
    "collapsed": false,
    "scrolled": true
   },
   "outputs": [],
   "source": [
    "#parse\n",
    "exocat = votab.parse(EXOSIM_stars,datatype_mapping={\"char\": \"unicodeChar\"}).get_first_table().to_table()\n",
    "#knownRV = votab.parse(\"../EXOSIMS/EXOSIMS/PlanetPopulation/RVplanets_ipac_032216.votable\").get_first_table().to_table()\n",
    "knownRV = votab.parse(latest_RV_url,datatype_mapping={\"char\": \"unicodeChar\"}).get_first_table().to_table()\n",
    "#exoplanets_dot_eu = votab.parse(exoplanets_eu).get_first_table().to_table()\n",
    "#create \n",
    "\n",
    "exoarch_confirmed_file=astropy.utils.data.download_file(exoarch_confirmed_url, \n",
    "                                                        cache=False,\n",
    "                                                        show_progress=True,\n",
    "                                                        timeout=10) #regular call was timing out\n",
    "exoarchConfirmed = votab.parse(exoarch_confirmed_file,datatype_mapping={\"char\": \"unicodeChar\"}).get_first_table().to_table()\n",
    "last_download_time=time.asctime(now)"
   ]
  },
  {
   "cell_type": "code",
   "execution_count": null,
   "metadata": {
    "collapsed": false
   },
   "outputs": [],
   "source": [
    "if exoarchConfirmed[\"pl_orbper\"].unit == \"days\":\n",
    "    print(\"days not a recognized unit, replacing with day\")\n",
    "    exoarchConfirmed[\"pl_orbper\"].unit=u.day #fix units\n",
    "if knownRV[\"pl_orbper\"].unit == \"days\":\n",
    "    print(\"days not a recognized unit, replacing with day\")\n",
    "    knownRV[\"pl_orbper\"].unit=u.day #fix units\n"
   ]
  },
  {
   "cell_type": "code",
   "execution_count": null,
   "metadata": {
    "collapsed": false
   },
   "outputs": [],
   "source": [
    "'''exoplanets_eu_file = astropy.utils.data.download_file(exoplanets_eu_url, \n",
    "                                                        cache=False,\n",
    "                                                        show_progress=True,\n",
    "                                                        timeout=60) \n",
    "exoplanets_dot_eu = votab.parse(exoplanets_eu_file)#.get_first_table().to_table() #returns E05: Invalid boolean value 'Yes'\n",
    "'''"
   ]
  },
  {
   "cell_type": "code",
   "execution_count": null,
   "metadata": {
    "collapsed": false
   },
   "outputs": [],
   "source": [
    "from astroquery.vizier import Vizier\n",
    "import astropy.units as u\n",
    "def get_hip(target_name):\n",
    "    viz=Vizier.query_object(target_name, catalog=\"I/311/hip2\") \n",
    "    if len(viz.values()) ==0:\n",
    "        return target_name\n",
    "    return \"HIP  \"+str(viz['I/311/hip2'][\"HIP\"][0])\n",
    "get_hip(\"eps eri\")\n",
    "def get_2MASS(target_name):\n",
    "    viz=Vizier.query_object(target_name, catalog=\"II/246/out\",radius=5*u.arcsecond) \n",
    "    if len(viz.values()) ==0:\n",
    "        return target_name\n",
    "    return \"2MASS \"+str(viz[\"II/246/out\"][\"_2MASS\"][0].decode('utf-8') )\n",
    "get_hip(\"eps eri\"),get_2MASS(\"eps eri\")"
   ]
  },
  {
   "cell_type": "code",
   "execution_count": null,
   "metadata": {
    "collapsed": false,
    "scrolled": true
   },
   "outputs": [],
   "source": [
    "#Define open exoplanet catalog column names:\n",
    "oec_cols=[\"name\",#  1: Primary identifier of planet\n",
    "          \"binary\",#  2: Binary flag [0=no known stellar binary companion; 1=P-type binary (circumbinary); 2=S-type binary; 3=orphan planet (no star)]\n",
    "          \"pl_massj\",##  3: Planetary mass [Jupiter masses]\n",
    "          \"pl_radiusj\",##  4: Radius [Jupiter radii]\n",
    "          \"pl_orbper\",#  5: Period [days]\n",
    "          \"pl_orbsmax\",#  6: Semi-major axis [Astronomical Units]\n",
    "          \"pl_orbeccen\",#  7: Eccentricity\n",
    "          \"pl_orblper\",#  8: Periastron [degree]\n",
    "          \"longitude\", ##  9: Longitude [degree] https://github.com/OpenExoplanetCatalogue/open_exoplanet_catalogue/issues/292\n",
    "          \"ascendingnode\",#\"10: Ascending node [degree]\",\n",
    "          \"pl_orbincl\",#\"# 11: Inclination [degree]\n",
    "          \"pl_eqt\",# 12: Surface or equilibrium temperature [K]\n",
    "          \"pl_age\",# 13: Age [Gyr]\n",
    "          \"pl_discmethod\",#,14: Discovery method\n",
    "          \"pl_disc\",# 15:\" Discovery year [yyyy]\n",
    "          \"rowupdate\",# 16: Last updated [yy/mm/dd]\n",
    "          \"ra_str\",# 17: Right ascension [hh mm ss]\n",
    "          \"dec_str\",# 18: Declination [+/-dd mm ss]\n",
    "          \"st_dist\",# 19: Distance from Sun [parsec]\n",
    "          \"st_mass\",# 20: Host star mass [Solar masses]\n",
    "          \"st_rad\",# 21: Host star radius [Solar radii]\n",
    "          \"st_metfe\",# 22: Host star metallicity [log relative to solar]\n",
    "          \"st_teff\",# 23: Host star temperature [K],\"24: Host star age [Gyr]\"]\n",
    "          \"st_age\",# 24: Host star age [Gyr]\n",
    "          \"list\",#detection status list\n",
    "]\n",
    "          \n",
    "oec=astropy.io.ascii.read(oec_latest_tab,data_start=31,names=oec_cols,delimiter=\",\",guess=False)\n",
    "oec_all = oec.copy()\n",
    "oec=oec[oec[\"list\"]==\"Confirmed planets\"] #throw away planets that aren't marked confirmed\n",
    "oec\n",
    "oec[\"pl_orbper\"].unit=u.day\n",
    "oec[\"st_dist\"].unit=u.parsec\n"
   ]
  },
  {
   "cell_type": "code",
   "execution_count": null,
   "metadata": {
    "collapsed": false
   },
   "outputs": [],
   "source": [
    "import pandas as pd\n",
    "curated = pd.read_excel(\"../../projects/wfirst/WFIRST_prime_RV_targets_082016.xlsx\",\n",
    "                        header=0,skiprows=1, encoding=\"utf-8-sig\",\n",
    "                        index_col=None)\n",
    "#curated[\"DIST\"]"
   ]
  },
  {
   "cell_type": "code",
   "execution_count": null,
   "metadata": {
    "collapsed": false
   },
   "outputs": [],
   "source": [
    "exoc_pd = exocat.to_pandas()\n",
    "exoarc_pd = exoarchConfirmed.to_pandas()\n",
    "knownRV_pd=knownRV.to_pandas()\n",
    "\n",
    "oec_pd=oec.to_pandas()\n",
    "oec_all_pd=oec_all.to_pandas()\n"
   ]
  },
  {
   "cell_type": "code",
   "execution_count": null,
   "metadata": {
    "collapsed": false
   },
   "outputs": [],
   "source": [
    "import cat_proc\n",
    "from importlib import reload\n",
    "reload(cat_proc)\n",
    "#test that the Simbad query works (need internet...):\n",
    "assert cat_proc.get_names(\"Epsilon Eridani\",catalog=\"HIP\") == 'HIP  16537'\n",
    "assert get_hip(\"epsilon eridani\") == 'HIP  16537'\n",
    "\n",
    "\n",
    "\n",
    "curated[\"hip_name\"]=curated[\"NAME\"]\n",
    "for i in curated[\"hip_name\"].index:\n",
    "    name=curated.loc[i,\"NAME\"]\n",
    "    curated.loc[i,\"hip_name\"]=(get_hip(name[:-2])+name[-2:]).strip(\"\\n\").strip()\n",
    "        \n",
    "\n",
    "oec_nearby_pd=oec_all_pd[(oec_all_pd[\"st_dist\"]<50) & (oec_all_pd[\"pl_orbsmax\"]>1)]\n",
    "oec_nearby_pd[\"hip_name\"]=oec_nearby_pd[\"name\"]\n",
    "\n",
    "for i in oec_nearby_pd[\"hip_name\"].index:\n",
    "    name = oec_nearby_pd.loc[i,\"name\"]\n",
    "\n",
    "    oec_nearby_pd.loc[i,\"hip_name\"]=(get_hip(name[:-2])+name[-2:]).strip(\"\\n\").strip()\n",
    "        "
   ]
  },
  {
   "cell_type": "code",
   "execution_count": null,
   "metadata": {
    "collapsed": false
   },
   "outputs": [],
   "source": [
    "oec_nearby_pd_HP=oec_nearby_pd.set_index(\"hip_name\",inplace=False)\n",
    "curated_HP=curated.set_index(\"hip_name\",inplace=False)\n",
    "curated_HP"
   ]
  },
  {
   "cell_type": "code",
   "execution_count": null,
   "metadata": {
    "collapsed": false
   },
   "outputs": [],
   "source": [
    "result = pd.merge(curated_HP, oec_nearby_pd_HP,how='left',\n",
    "                  left_index=True,right_index=True)#,join='outer',axis=0)\n",
    "result[\"%Mj\"]=np.abs ((result[\"MSINI\"]-result[\"pl_massj\"])/result[\"MSINI\"]*100)\n",
    "result[\"%AU\"]=np.abs((result[\"A\"]-result[\"pl_orbsmax\"])/result[\"A\"]*100)\n",
    "result.shape\n",
    "\n",
    "updates=result.copy()\n",
    "updates[[\"NAME\",\"MSINI\",\"pl_massj\",\"%Mj\",\"A\",\"pl_orbsmax\",\"%AU\",\"Notes\"]].sort_values(\"%Mj\")\n",
    "\n",
    "updates[\"ADSbibcode\"]=\" \"\n",
    "#updates[\"Notes\"]=\" \"\n",
    "\n",
    "\n",
    "#update parameters\n",
    "#HD 217107 c: \n",
    "\"\"\"\n",
    "Table 3\n",
    "List of Keplerian Orbital Parameters\n",
    "Name P              Tp                e              ω          K             Msini                a \n",
    "b 7.126846 ± 0.000013 14395.789 ± 0.025 0.1283 ± 0.0027 24.0 ± 1.3 140.30 ± 0.40 1.4135 ± 0.0042 0.07505 ± 0.00097\n",
    "c 5189 ± 21               10770 ± 16    0.3848 ± 0.0086 206.3 ± 1.7 53.41 ± 0.75  4.513 ± 0.072    6.074 ± 0.080\"\"\"\n",
    "updates.loc['HIP  113421 c',\"ADSbibcode\"] = \"2015ApJ...800...22F\" \n",
    "updates.loc['HIP  113421 c',\"A\"] = 6.074 #HD 217107 c\n",
    "updates.loc['HIP  113421 c',\"PER\"] = 5189 #HD 217107 c\n",
    "updates.loc['HIP  113421 c',\"ECC\"] = 0.3848 #HD 217107 c\n",
    "updates.loc['HIP  113421 c',\"OM\"] = 206.3 #HD 217107 c\n",
    "updates.loc['HIP  113421 c',\"T0\"] = 10770+2440000 #HD 217107 c\n",
    "\n",
    "\n",
    "\n",
    "#eps eri:\n",
    "\"\"\"\n",
    "Eridani Including Seven Data Sets\n",
    "Parameter CCF\n",
    "P [days] 2651 (36)\n",
    "K [m s−1] 11.8 (1.1)\n",
    "M0 [deg] 09 (12)\n",
    "ea 0.40 (11)\n",
    "ω[deg] 141.4 (9.8)\n",
    "M sin i [Mjup] 0.645 (58)\n",
    "a [AU] 3.51\n",
    "\n",
    "\"\"\"\n",
    "updates.loc['HIP  16537 b',\"ADSbibcode\"] = \"2012ApJS..200...15A\" \n",
    "updates.loc['HIP  16537 b',\"A\"] = 3.51 #\n",
    "updates.loc['HIP  16537 b',\"MSINI\"] = 0.645\n",
    "updates.loc['HIP  16537 b',\"PER\"] = 2651 #\n",
    "updates.loc['HIP  16537 b',\"ECC\"] = 0.40 #\n",
    "updates.loc['HIP  16537 b',\"OM\"] = 141.4 #\n",
    "# T0 (initial mean anamoly) not provided\n",
    "\n",
    "\n",
    "#gamma ceph b:\n",
    "# oec, exoplanets.eu and exoplanet archive all cite http://adsabs.harvard.edu/abs/2011AIPC.1331...88E\n",
    "# the exoplanets.org value is from http://adsabs.harvard.edu/abs/2003ApJ...599.1383H\n",
    "'''\n",
    "TABLE 1. New orbital and planetary parameters\n",
    "for g Cep Ab\n",
    "parameter value error units\n",
    "Period 903.3 1.5 [days]\n",
    "K 31.1 0.97 [ms−1]\n",
    "e 0.049 0.034\n",
    "Tper 2453227 87 [days]\n",
    "w 94.6 34.6 [deg]\n",
    "m sini 1.85 0.16 [MJup]\n",
    "a 2.05 0.06 [AU]\n",
    "'''\n",
    "updates.loc['HIP  116727 b',\"ADSbibcode\"] = \"2011AIPC.1331...88E\" \n",
    "updates.loc['HIP  116727 b',\"A\"] = 2.05 #HD 217107 c\n",
    "updates.loc['HIP  116727 b',\"MSINI\"] = 1.85 #HD 217107 c\n",
    "updates.loc['HIP  116727 b',\"PER\"] = 903.3#\n",
    "updates.loc['HIP  116727 b',\"ECC\"] = 0.049 #\n",
    "updates.loc['HIP  116727 b',\"OM\"] = 94.6 #\n",
    "updates.loc['HIP  116727 b',\"T0\"] = 2453227\n",
    "updates[\"%AU\"]=np.abs((updates[\"A\"]-updates[\"pl_orbsmax\"])/updates[\"A\"]*100)\n",
    "#updates[\"Separation\"]=updates[\"A\"]/updates[\"DIST\"]\n",
    "\n",
    "\n",
    "updates[[\"NAME\",\"MSINI\",\"pl_massj\",\"%Mj\",\"A\",\"pl_orbsmax\",\"%AU\",\"Separation\",\"ADSbibcode\",\"Notes\"]].sort_values(\"%Mj\")\n",
    "\n",
    "#remove the error columns\n",
    "cleaned = updates.copy()\n",
    "cleaned.pop(\"%AU\")\n",
    "cleaned.pop(\"%Mj\")\n",
    "\n",
    "\n",
    "from astropy.time import Time\n",
    "from astropy.table import Table\n",
    "import astropy.units as u\n",
    "latest_params_fname = \"LatestRVmeasurements_enh.csv\"\n",
    "\n",
    "#drop the derived parameters:\n",
    "measured_parameters =  cleaned[curated.columns[0:10]]\n",
    "measured_parameters[\"Notes\"]=cleaned[\"Notes\"]\n",
    "measured_parameters[\"hip_name\"]=measured_parameters.index\n",
    "\n",
    "\n",
    "#switch to VOTable to preserve units\n",
    "votab_measured=Table.from_pandas(measured_parameters)\n",
    "votab_measured[\"MSINI\"].unit = u.jupiterMass\n",
    "votab_measured[\"PER\"].unit = u.day\n",
    "votab_measured[\"A\"].unit = u.AU\n",
    "votab_measured[\"OM\"].unit = u.degree\n",
    "votab_measured[\"T0\"].unit = u.day\n",
    "votab_measured[\"V\"].unit = u.mag\n",
    "votab_measured[\"DIST\"].unit = u.parsec\n",
    "\n",
    "votab_measured.write(latest_params_fname,format=\"ascii.ecsv\",delimiter=',')\n",
    "#read table back to make sure worked:\n",
    "Table.read(latest_params_fname,format=\"ascii.ecsv\")\n"
   ]
  },
  {
   "cell_type": "code",
   "execution_count": null,
   "metadata": {
    "collapsed": false,
    "scrolled": false
   },
   "outputs": [],
   "source": [
    "cleaned[\"Notes\"]"
   ]
  },
  {
   "cell_type": "code",
   "execution_count": null,
   "metadata": {
    "collapsed": false
   },
   "outputs": [],
   "source": [
    "def scatter_with_labels(p,x,y,names,**kwargs):\n",
    "    #data source for mouseover\n",
    "    if isinstance(names[0],bytes):\n",
    "        names= [j.decode('utf-8') for j in names]\n",
    "    source = bokeh.models.ColumnDataSource(data=dict(\n",
    "        x=x,\n",
    "        y=y,\n",
    "        name=names, #convert bytes to strings\n",
    "    ))\n",
    "\n",
    "    p.scatter(x,y,line_color=None,source=source,**kwargs)\n",
    "tooltips=[(\"index\", \"$index\"),\n",
    "          (\"(x,y)\", \"(@x, @y)\"),\n",
    "          (\"name\", \"@name\")]"
   ]
  },
  {
   "cell_type": "code",
   "execution_count": null,
   "metadata": {
    "collapsed": false,
    "slideshow": {
     "slide_type": "slide"
    }
   },
   "outputs": [],
   "source": [
    "\n",
    "TOOLS=\"hover,crosshair,pan,wheel_zoom,box_zoom,undo,redo,reset,tap,save,box_select,poly_select,lasso_select\"\n",
    "\n",
    "p = bokeh.plotting.figure(tools=TOOLS, x_range=( 10000,0))\n",
    "\n",
    "p.scatter(exocat['st_teff'], (exocat['st_mass']), radius=50,\n",
    "          fill_color='gray', fill_alpha=0.5,legend=\"ExoCat\",\n",
    "          line_color=None)\n",
    "\n",
    "p.scatter(knownRV['st_teff'], (knownRV[\"st_mass\"]), radius=100,\n",
    "fill_color=\"orange\", fill_alpha=0.2,legend=\"Known RV\",\n",
    "          line_color=None)\n",
    "p.xaxis.axis_label = \"T [K]\"\n",
    "p.yaxis.axis_label = \"Mass [M_sun]\"\n",
    "bokeh.plotting.show(p)\n"
   ]
  },
  {
   "cell_type": "code",
   "execution_count": null,
   "metadata": {
    "collapsed": false,
    "scrolled": false,
    "slideshow": {
     "slide_type": "slide"
    }
   },
   "outputs": [],
   "source": [
    "\n",
    "hover = bokeh.models.HoverTool(tooltips=tooltips)\n",
    "tools=[hover]+[\"crosshair,pan,wheel_zoom,box_zoom,undo,redo,reset,tap,save,box_select,poly_select,lasso_select\"]\n",
    "p = bokeh.plotting.figure(tools=tools,y_axis_type='log', y_range=(1e-3,1e3) ,x_range=( 10000,0))\n",
    "\n",
    "scatter_with_labels(p,exocat['st_teff'],exocat['st_lbol'],\n",
    "                    exocat[\"hip_name\"],\n",
    "                    color=\"blue\",legend=\"exocat\",size=10,fill_alpha=0.1)\n",
    "\n",
    "scatter_with_labels(p,knownRV[\"st_teff\"],10**(knownRV[\"st_lum\"]), \n",
    "                    knownRV[\"pl_name\"],\n",
    "                    color=\"orange\",legend=\"Known RV\",size=10,fill_alpha=.3)\n",
    "\n",
    "p.title.text = \"H-R Diagram\"\n",
    "p.xaxis.axis_label = \"T [K]\"\n",
    "p.yaxis.axis_label = \"Luminousity [L_sun]\"\n",
    "bokeh.plotting.show(p)\n"
   ]
  },
  {
   "cell_type": "code",
   "execution_count": null,
   "metadata": {
    "collapsed": false
   },
   "outputs": [],
   "source": []
  },
  {
   "cell_type": "code",
   "execution_count": null,
   "metadata": {
    "collapsed": false,
    "slideshow": {
     "slide_type": "slide"
    }
   },
   "outputs": [],
   "source": [
    "\n",
    "hover = bokeh.models.HoverTool(tooltips=tooltips)\n",
    "tools=[hover]+[\"crosshair,pan,wheel_zoom,box_zoom,undo,redo,reset,tap,save,box_select,poly_select,lasso_select\"]\n",
    "p = bokeh.plotting.figure(tools=tools,y_axis_type='log', y_range=(1,1e3) ,x_range=( 10000,0))\n",
    "\n",
    "\n",
    "p.scatter(exocat['st_teff'], (exocat['st_dist']), \n",
    "                              exocat[\"hip_name\"],\n",
    "          size=5,\n",
    "          fill_color='gray', fill_alpha=0.2,legend=\"ExoCat\",\n",
    "          line_color=None)\n",
    "\n",
    "p.scatter(knownRV['st_teff'], (knownRV[\"st_dist\"]),\n",
    "                              knownRV[\"pl_name\"], size=10,\n",
    "          fill_color=\"blue\", fill_alpha=0.2,legend=\"Known RV\",\n",
    "          line_color=None)\n",
    "\n",
    "p.scatter(exoarchConfirmed['st_teff'], (exoarchConfirmed[\"st_dist\"]), size=10,\n",
    "fill_color=\"green\", fill_alpha=0.1,legend=\"IPAC Exoplanet Archive\",\n",
    "          line_color=None)\n",
    "p.xaxis.axis_label = \"T [K]\"\n",
    "p.yaxis.axis_label = \"distance [pc]\"\n",
    "bokeh.plotting.show(p)\n",
    "\n",
    "\n"
   ]
  },
  {
   "cell_type": "code",
   "execution_count": null,
   "metadata": {
    "collapsed": false,
    "slideshow": {
     "slide_type": "slide"
    }
   },
   "outputs": [],
   "source": [
    "\n",
    "hover = bokeh.models.HoverTool(tooltips=tooltips)\n",
    "tools=[hover]+[\"crosshair,pan,wheel_zoom,box_zoom,undo,redo,reset,tap,save,box_select,poly_select,lasso_select\"]\n",
    "p = bokeh.plotting.figure(tools=tools,y_axis_type='log', y_range=(1,1e3) ,x_range=( 10000,0))\n",
    "\n",
    "scatter_with_labels(p,exocat['st_teff'], (exocat['st_dist']),\n",
    "                    exocat[\"hip_name\"],\n",
    "                    radius=50,\n",
    "          fill_color='gray', fill_alpha=0.2,legend=\"ExoCat\",)\n",
    "scatter_with_labels(p,knownRV['st_teff'], (knownRV[\"st_dist\"]), knownRV[\"pl_name\"],\n",
    "                    radius=100,\n",
    "                    fill_color=\"blue\", fill_alpha=0.2,legend=\"Known RV\",)\n",
    "scatter_with_labels(p,exoarchConfirmed['st_teff'], (exoarchConfirmed[\"st_dist\"]), exoarchConfirmed[\"pl_hostname\"],\n",
    "                    radius=100,\n",
    "                    fill_color=\"green\", fill_alpha=0.2,legend=\"IPAC Exoplanet Archive\",)\n",
    "p.xaxis.axis_label = \"T [K]\"\n",
    "p.yaxis.axis_label = \"distance [pc]\"\n",
    "bokeh.plotting.show(p)\n",
    "\n"
   ]
  },
  {
   "cell_type": "code",
   "execution_count": null,
   "metadata": {
    "collapsed": false,
    "slideshow": {
     "slide_type": "slide"
    }
   },
   "outputs": [],
   "source": [
    "hover = bokeh.models.HoverTool(tooltips=tooltips)\n",
    "tools=[hover]+[\"crosshair,pan,wheel_zoom,box_zoom,undo,redo,reset,tap,save,box_select,poly_select,lasso_select\"]\n",
    "\n",
    "p = bokeh.plotting.figure(tools=tools,x_axis_type=\"log\",  y_range=(-5, 35),x_range=(0, 25),  )\n",
    "\n",
    "scatter_with_labels(p,exoarchConfirmed[\"st_optmag\"],exoarchConfirmed[\"st_dist\"],\n",
    "                    exoarchConfirmed[\"pl_hostname\"],\n",
    "                    color=\"green\",legend=\"IPAC Exoplanet Archive\",\n",
    "                    size=12,fill_alpha=0.34)\n",
    "\n",
    "scatter_with_labels(p,knownRV[\"st_optmag\"],knownRV[\"st_dist\"], \n",
    "                    knownRV[\"pl_hostname\"],\n",
    "                    size=12,fill_alpha=0.34,\n",
    "                    color=\"blue\",legend=\"Known RV\")\n",
    "\n",
    "#bokeh.plotting.show(p)\n",
    "p.xaxis.axis_label = \"Optical Mag\"\n",
    "p.yaxis.axis_label = \"distance [pc]\"\n",
    "\n",
    "#what is optical mag? Johnson v_mag?\n",
    "\n",
    "\n"
   ]
  },
  {
   "cell_type": "code",
   "execution_count": null,
   "metadata": {
    "collapsed": true
   },
   "outputs": [],
   "source": [
    "hover = bokeh.models.HoverTool(tooltips=tooltips)\n",
    "\n",
    "\n",
    "tools=[hover]+[\"crosshair,pan,wheel_zoom,box_zoom,undo,redo,reset,tap,save,box_select,poly_select,lasso_select\"]\n",
    "\n",
    "p = bokeh.plotting.figure(tools=tools,x_axis_type=\"log\",  y_range=(-5, 35))#x_range=(0, 10000),  )\n",
    "\n",
    "scatter_with_labels(p,exoarchConfirmed[\"pl_orbper\"],exoarchConfirmed[\"st_dist\"],\n",
    "                    exoarchConfirmed[\"pl_hostname\"],\n",
    "                    color=\"gray\",legend=\"IPAC Exoplanet Archive\",size=6,fill_alpha=0.6)\n",
    "\n",
    "scatter_with_labels(p,knownRV[\"pl_orbper\"],knownRV[\"st_dist\"], \n",
    "                    knownRV[\"pl_hostname\"],\n",
    "                    color=\"blue\",legend=\"Known RV\",size=10,fill_alpha=.35)\n",
    "\n",
    "scatter_with_labels(p,oec[\"pl_orbper\"],oec[\"st_dist\"], \n",
    "                    oec[\"name\"],\n",
    "                    color=\"orange\",legend=\"Open Exoplanet Catalog Confirmed\",size=10,fill_alpha=.35)\n",
    "p.xaxis.axis_label = \"orbital period [d]\"\n",
    "p.yaxis.axis_label = \"distance [pc]\"\n",
    "\n"
   ]
  },
  {
   "cell_type": "code",
   "execution_count": null,
   "metadata": {
    "collapsed": false
   },
   "outputs": [],
   "source": [
    "\n",
    "def sep_as(dist,period):\n",
    "    '''\n",
    "    calculate the separation in arcseconds\n",
    "    $p[years]^2=a[AU]^3$\n",
    "\n",
    "    s[\"]=a[AU]/d[pc]\n",
    "\n",
    "    $s[\"]=(p)^{2/3}/d$\n",
    "    '''\n",
    "    return (period.to(u.year).value**(2/3)/dist.to(u.parsec).value)\n",
    "hover = bokeh.models.HoverTool(tooltips=tooltips)\n",
    "\n",
    "\n",
    "tools=[hover]+[\"crosshair,pan,wheel_zoom,box_zoom,undo,redo,reset,tap,save,box_select,poly_select,lasso_select\"]\n",
    "\n",
    "p2 = bokeh.plotting.Figure(tools=tools,x_axis_type=\"log\",  y_range=(-5, 45),x_range=(1e-2, 40),  )\n",
    "#https://github.com/bokeh/bokeh/issues/3531\n",
    "\n",
    "scatter_with_labels(p2,sep_as(exoarchConfirmed[\"st_dist\"],exoarchConfirmed[\"pl_orbper\"]),\n",
    "                    exoarchConfirmed[\"st_dist\"],\n",
    "                     exoarchConfirmed[\"pl_hostname\"] +exoarchConfirmed[\"pl_letter\"],        \n",
    "                    color=\"gray\",legend=\"IPAC Exoplanet Archive\",size=10,fill_alpha=0.6)\n",
    "\n",
    "scatter_with_labels(p2,sep_as(knownRV[\"st_dist\"],knownRV[\"pl_orbper\"]),knownRV[\"st_dist\"], \n",
    "                    knownRV[\"pl_hostname\"] +knownRV[\"pl_letter\"],\n",
    "                    color=\"blue\",legend=\"EXOSIMS Known RV\",size=10,fill_alpha=.35)\n",
    "\n",
    "scatter_with_labels(p2,sep_as(oec[\"st_dist\"],oec[\"pl_orbper\"]),oec[\"st_dist\"], \n",
    "                    oec[\"name\"],\n",
    "                    color=\"orange\",legend=\"Open Exoplanet Catalog Confirmed\",size=10,fill_alpha=.35)\n",
    "p2.xaxis.axis_label = \"separation [arcseconds]\"\n",
    "p2.yaxis.axis_label = \"distance [pc]\"\n",
    "\n",
    "\n",
    "p2.title.text = \"Separation (from period, assuming circular orbits)\"\n",
    "\n",
    "\n",
    "#bokeh.plotting.show(p2)"
   ]
  },
  {
   "cell_type": "code",
   "execution_count": null,
   "metadata": {
    "collapsed": false,
    "scrolled": true
   },
   "outputs": [],
   "source": []
  },
  {
   "cell_type": "code",
   "execution_count": null,
   "metadata": {
    "collapsed": false
   },
   "outputs": [],
   "source": []
  },
  {
   "cell_type": "code",
   "execution_count": null,
   "metadata": {
    "collapsed": false
   },
   "outputs": [],
   "source": [
    "#g = plt.scatter(x=\"MSINI\", y=\"Separation\", data=curated,alpha=0.5,color=\"blue\",s=30)\n",
    "#g = plt.scatter(x=\"MSINI\", y=\"Separation\", data=updates,alpha=0.5,color=\"red\",s=30)\n",
    "#plt.xscale(\"log\")\n",
    "#plt.yscale(\"log\")\n",
    "\n",
    "bokeh.io.curdoc().clear()#https://github.com/bokeh/bokeh/issues/3943\n",
    "\n",
    "\n",
    "hover = bokeh.models.HoverTool(tooltips=tooltips)\n",
    "\n",
    "\n",
    "tools=[hover]+[\"crosshair,pan,wheel_zoom,box_zoom,undo,redo,reset,tap,save,box_select,poly_select,lasso_select\"]\n",
    "\n",
    "p3 = bokeh.plotting.Figure(tools=tools,x_axis_type=\"log\",#y_axis_type=\"log\",  \n",
    "                           y_range=(0.01e-1, 1.5),x_range=(1e-3, 30),  )\n",
    "#https://github.com/bokeh/bokeh/issues/3531\n",
    "scatter_with_labels(p3,curated[\"MSINI\"],\n",
    "                    curated[\"Separation\"], \n",
    "                     curated[\"NAME\"],\n",
    "                    size=20,fill_alpha=0.34,\n",
    "                    color=\"blue\",legend=\"curated\",marker='square')\n",
    "scatter_with_labels(p3,updates[\"MSINI\"],\n",
    "                    updates[\"Separation\"], \n",
    "                     updates[\"NAME\"],\n",
    "                    size=20,fill_alpha=0.34,\n",
    "                    color=\"green\",legend=\"Updated\",marker='square')\n",
    "bokeh.plotting.show(p3)"
   ]
  },
  {
   "cell_type": "code",
   "execution_count": null,
   "metadata": {
    "collapsed": false
   },
   "outputs": [],
   "source": []
  },
  {
   "cell_type": "code",
   "execution_count": null,
   "metadata": {
    "collapsed": false
   },
   "outputs": [],
   "source": [
    "bokeh.io.curdoc().clear()#https://github.com/bokeh/bokeh/issues/3943\n",
    "\n",
    "hover = bokeh.models.HoverTool(tooltips=tooltips)\n",
    "tools=[hover]+[\"crosshair,pan,wheel_zoom,box_zoom,undo,redo,reset,tap,save,box_select,poly_select,lasso_select\"]\n",
    "\n",
    "p1 = bokeh.plotting.Figure(tools=tools,x_axis_type=\"log\",  y_range=(-5, 75),x_range=(1e-1, 40),  )\n",
    "\n",
    "scatter_with_labels(p1,exoarchConfirmed[\"pl_msinij\"],exoarchConfirmed[\"st_dist\"],\n",
    "                     exoarchConfirmed[\"pl_hostname\"] +exoarchConfirmed[\"pl_letter\"],        \n",
    "                    size=12,fill_alpha=0.6,\n",
    "                    color=\"gray\",legend=\"IPAC Exoplanet Archive\")\n",
    "\n",
    "scatter_with_labels(p1,knownRV[\"pl_msinij\"],knownRV[\"st_dist\"], \n",
    "                     knownRV[\"pl_hostname\"] +knownRV[\"pl_letter\"],\n",
    "                    size=12,fill_alpha=0.34,\n",
    "                    color=\"blue\",legend=\"EXOSIMS Known RV\")\n",
    "\n",
    "scatter_with_labels(p1,curated[\"MSINI\"],curated[\"DIST\"], \n",
    "                     curated[\"NAME\"],\n",
    "                    size=20,fill_alpha=0.34,\n",
    "                    color=\"red\",legend=\"curated\",marker='square')\n",
    "\n",
    "scatter_with_labels(p1,oec[\"pl_massj\"],oec[\"st_dist\"], \n",
    "                    np.array(oec[\"name\"],dtype=object)+ np.array(oec[\"pl_discmethod\"],dtype=object),\n",
    "                    color=\"orange\",legend=\"Open Exoplanet Catalog Confirmed Planets\",size=10,fill_alpha=.35)\n",
    "p1.xaxis.axis_label = \"orbital period [d]\"\n",
    "scatter_with_labels(p1,oec[\"pl_massj\"],oec[\"st_dist\"],oec[\"name\"],\n",
    "                    size=10,color='orange',fill_alpha=.3)\n",
    "p1.xaxis.axis_label = \"msini [Jupiter]\"\n",
    "p1.yaxis.axis_label = \"distance [pc]\"\n",
    "p1.title.text = \"Catalogs last queried: \"+last_download_time\n",
    "#bokeh.plotting.show(p1)"
   ]
  },
  {
   "cell_type": "code",
   "execution_count": null,
   "metadata": {
    "collapsed": false
   },
   "outputs": [],
   "source": [
    "bokeh.io.curdoc().clear()#https://github.com/bokeh/bokeh/issues/3943\n",
    "\n",
    "\n",
    "hover = bokeh.models.HoverTool(tooltips=tooltips)\n",
    "\n",
    "\n",
    "tools=[hover]+[\"crosshair,pan,wheel_zoom,box_zoom,undo,redo,reset,tap,save,box_select,poly_select,lasso_select\"]\n",
    "\n",
    "p3 = bokeh.plotting.Figure(tools=tools,x_axis_type=\"log\",y_axis_type=\"log\",  \n",
    "                           y_range=(0.3e-1, 40),x_range=(1e-2, 40),  )\n",
    "#https://github.com/bokeh/bokeh/issues/3531\n",
    "\n",
    "scatter_with_labels(p3,exoarchConfirmed[\"pl_msinij\"],\n",
    "                    sep_as(exoarchConfirmed[\"st_dist\"],exoarchConfirmed[\"pl_orbper\"]),\n",
    "                     exoarchConfirmed[\"pl_hostname\"] +exoarchConfirmed[\"pl_letter\"],        \n",
    "                    color=\"gray\",legend=\"IPAC Exoplanet Archive (msini)\",size=10,fill_alpha=0.6)\n",
    "scatter_with_labels(p3,exoarchConfirmed[\"pl_bmassj\"],\n",
    "                    sep_as(exoarchConfirmed[\"st_dist\"],exoarchConfirmed[\"pl_orbper\"]),\n",
    "                     exoarchConfirmed[\"pl_hostname\"] +exoarchConfirmed[\"pl_letter\"]+ exoarchConfirmed[\"pl_discmethod\"],        \n",
    "                    color=\"gray\",legend=\"IPAC Exoplanet Archive (Best Mass)\",\n",
    "                    size=10,fill_alpha=0.6,marker=\"diamond\")\n",
    "\n",
    "scatter_with_labels(p3,                    knownRV[\"pl_msinij\"],\n",
    "                    sep_as(knownRV[\"st_dist\"],knownRV[\"pl_orbper\"]),\n",
    "                    knownRV[\"pl_hostname\"] +knownRV[\"pl_letter\"],\n",
    "                    color=\"blue\",legend=\"EXOSIMS Known RV\",size=10,fill_alpha=.35)\n",
    "\n",
    "scatter_with_labels(p3,oec[\"pl_massj\"], \n",
    "                    sep_as(oec[\"st_dist\"],oec[\"pl_orbper\"]),\n",
    "                    oec[\"name\"],\n",
    "                    color=\"orange\",legend=\"Open Exoplanet Catalog Confirmed\",size=10,fill_alpha=.35)\n",
    "\n",
    "scatter_with_labels(p3,curated[\"MSINI\"],\n",
    "                    curated[\"Separation\"], \n",
    "                     curated[\"NAME\"],\n",
    "                    size=20,fill_alpha=0.34,\n",
    "                    color=\"red\",legend=\"curated\",marker='square')\n",
    "\n",
    "\n",
    "p3.yaxis.axis_label = \"separation [arcseconds]\"\n",
    "p3.xaxis.axis_label = \"mass [Jupiter]\"\n",
    "\n",
    "\n",
    "p3.title.text = \"Separation  (from period, assuming circular orbits) vs mass\"\n",
    "\n",
    "\n",
    "#bokeh.plotting.show(p3)"
   ]
  },
  {
   "cell_type": "code",
   "execution_count": null,
   "metadata": {
    "collapsed": false
   },
   "outputs": [],
   "source": [
    "grid = bokeh.layouts.gridplot([p2,p1,p3], ncols=2, plot_width=450, plot_height=600)\n",
    "bokeh.plotting.output_file(\"pc_msini_and_sep.html\", title=last_download_time)\n",
    "#bokeh.plotting.show(p)"
   ]
  },
  {
   "cell_type": "code",
   "execution_count": null,
   "metadata": {
    "collapsed": false,
    "slideshow": {
     "slide_type": "slide"
    }
   },
   "outputs": [],
   "source": [
    "bokeh.plotting.show(grid)"
   ]
  },
  {
   "cell_type": "markdown",
   "metadata": {
    "collapsed": false
   },
   "source": [
    "### \n"
   ]
  },
  {
   "cell_type": "code",
   "execution_count": null,
   "metadata": {
    "collapsed": false
   },
   "outputs": [],
   "source": []
  },
  {
   "cell_type": "code",
   "execution_count": null,
   "metadata": {
    "collapsed": false
   },
   "outputs": [],
   "source": [
    "\n",
    "oec_nearby_pd_HP"
   ]
  },
  {
   "cell_type": "code",
   "execution_count": null,
   "metadata": {
    "collapsed": false
   },
   "outputs": [],
   "source": []
  },
  {
   "cell_type": "code",
   "execution_count": null,
   "metadata": {
    "collapsed": false
   },
   "outputs": [],
   "source": []
  },
  {
   "cell_type": "code",
   "execution_count": null,
   "metadata": {
    "collapsed": true
   },
   "outputs": [],
   "source": []
  },
  {
   "cell_type": "code",
   "execution_count": null,
   "metadata": {
    "collapsed": false
   },
   "outputs": [],
   "source": []
  },
  {
   "cell_type": "code",
   "execution_count": null,
   "metadata": {
    "collapsed": false
   },
   "outputs": [],
   "source": [
    "updates.shape"
   ]
  },
  {
   "cell_type": "code",
   "execution_count": null,
   "metadata": {
    "collapsed": true
   },
   "outputs": [],
   "source": []
  }
 ],
 "metadata": {
  "anaconda-cloud": {},
  "kernelspec": {
   "display_name": "Python [conda env:wfirst]",
   "language": "python",
   "name": "conda-env-wfirst-py"
  },
  "language_info": {
   "codemirror_mode": {
    "name": "ipython",
    "version": 3
   },
   "file_extension": ".py",
   "mimetype": "text/x-python",
   "name": "python",
   "nbconvert_exporter": "python",
   "pygments_lexer": "ipython3",
   "version": "3.5.2"
  },
  "nbpresent": {
   "slides": {},
   "themes": {
    "default": "182d923d-0d77-439a-b52d-7cd0a5f04530",
    "theme": {}
   }
  }
 },
 "nbformat": 4,
 "nbformat_minor": 1
}
