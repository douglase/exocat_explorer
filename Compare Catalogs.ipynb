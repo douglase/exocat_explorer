{
 "cells": [
  {
   "cell_type": "markdown",
   "metadata": {
    "nbpresent": {
     "id": "e79066f7-00ac-4eda-9387-efb4daa4d7a8"
    }
   },
   "source": []
  },
  {
   "cell_type": "code",
   "execution_count": null,
   "metadata": {
    "collapsed": false,
    "nbpresent": {
     "id": "a0cbd01a-9cef-4357-81dd-9c3b9c2f0a6d"
    }
   },
   "outputs": [],
   "source": [
    "#import nbpresent\n",
    "#nbpresent.__version__\n"
   ]
  },
  {
   "cell_type": "code",
   "execution_count": null,
   "metadata": {
    "collapsed": false,
    "nbpresent": {
     "id": "64666af0-7cd5-41ed-a1dc-41717a28c5ab"
    }
   },
   "outputs": [],
   "source": [
    "import time\n",
    "\n",
    "import bokeh.plotting\n",
    "bokeh.plotting.output_notebook()\n",
    "now=time.gmtime()\n",
    "print(\"This notebook was last updated: \"+time.asctime(now)+\" UTC\")"
   ]
  },
  {
   "cell_type": "markdown",
   "metadata": {
    "nbpresent": {
     "id": "22e7236c-b754-4bcb-b2cc-d2c406be9f16"
    }
   },
   "source": [
    "Let's compare catalogs"
   ]
  },
  {
   "cell_type": "code",
   "execution_count": null,
   "metadata": {
    "collapsed": false,
    "nbpresent": {
     "id": "3019864a-6790-41b9-9c6d-c10735035757"
    }
   },
   "outputs": [],
   "source": [
    "import astropy.io.votable as votab\n",
    "import astropy.io.ascii \n",
    "import astropy.units as u\n",
    "\n",
    "import numpy as np\n",
    "\n",
    "#download latest target lists:\n",
    "\n",
    "latest_RV_url = \"https://raw.githubusercontent.com/dsavransky/EXOSIMS/master/EXOSIMS/PlanetPopulation/RVplanets_ipac_2016-05-15.votable\"\n",
    "exoarch_confirmed_url = \"http://exoplanetarchive.ipac.caltech.edu/cgi-bin/nstedAPI/nph-nstedAPI?table=exoplanets&format=votable&select=*\"\n",
    "exoplanets_eu_url = \"http://www.exoplanet.eu/catalog/votable/\" \n",
    "EXOSIM_stars = \"https://raw.githubusercontent.com/dsavransky/EXOSIMS/master/EXOSIMS/StarCatalog/mission_exocat.votable\"\n",
    "oec_latest_tab = \"https://raw.githubusercontent.com/douglase/oec_tables/master/comma_separated/open_exoplanet_catalogue.txt\"\n"
   ]
  },
  {
   "cell_type": "code",
   "execution_count": null,
   "metadata": {
    "collapsed": false
   },
   "outputs": [],
   "source": [
    "#parse\n",
    "exocat = votab.parse(EXOSIM_stars,).get_first_table().to_table()\n",
    "#knownRV = votab.parse(\"../EXOSIMS/EXOSIMS/PlanetPopulation/RVplanets_ipac_032216.votable\").get_first_table().to_table()\n",
    "knownRV = votab.parse(latest_RV_url).get_first_table().to_table()\n",
    "#exoplanets_dot_eu = votab.parse(exoplanets_eu).get_first_table().to_table()\n",
    "#create \n",
    "\n",
    "exoarch_confirmed_file=astropy.utils.data.download_file(exoarch_confirmed_url, \n",
    "                                                        cache=False,\n",
    "                                                        show_progress=True,\n",
    "                                                        timeout=10) #regular call was timing out\n",
    "exoarchConfirmed = votab.parse(exoarch_confirmed_file).get_first_table().to_table()\n",
    "last_download_time=time.asctime(now)"
   ]
  },
  {
   "cell_type": "code",
   "execution_count": null,
   "metadata": {
    "collapsed": false
   },
   "outputs": [],
   "source": [
    "if exoarchConfirmed[\"pl_orbper\"].unit == \"days\":\n",
    "    print(\"days not a recognized unit, replacing with day\")\n",
    "    exoarchConfirmed[\"pl_orbper\"].unit=u.day #fix units\n",
    "if knownRV[\"pl_orbper\"].unit == \"days\":\n",
    "    print(\"days not a recognized unit, replacing with day\")\n",
    "    knownRV[\"pl_orbper\"].unit=u.day #fix units\n"
   ]
  },
  {
   "cell_type": "code",
   "execution_count": null,
   "metadata": {
    "collapsed": false
   },
   "outputs": [],
   "source": [
    "'''exoplanets_eu_file = astropy.utils.data.download_file(exoplanets_eu_url, \n",
    "                                                        cache=False,\n",
    "                                                        show_progress=True,\n",
    "                                                        timeout=60) \n",
    "exoplanets_dot_eu = votab.parse(exoplanets_eu_file)#.get_first_table().to_table() #returns E05: Invalid boolean value 'Yes'\n",
    "'''"
   ]
  },
  {
   "cell_type": "code",
   "execution_count": null,
   "metadata": {
    "collapsed": false,
    "nbpresent": {
     "id": "73734606-cd20-4fc4-8f99-48e5b74e2ff1"
    },
    "scrolled": true
   },
   "outputs": [],
   "source": [
    "#Define open exoplanet catalog column names:\n",
    "oec_cols=[\"name\",#  1: Primary identifier of planet\n",
    "          \"binary\",#  2: Binary flag [0=no known stellar binary companion; 1=P-type binary (circumbinary); 2=S-type binary; 3=orphan planet (no star)]\n",
    "          \"pl_massj\",##  3: Planetary mass [Jupiter masses]\n",
    "          \"pl_radiusj\",##  4: Radius [Jupiter radii]\n",
    "          \"pl_orbper\",#  5: Period [days]\n",
    "          \"pl_orbsmax\",#  6: Semi-major axis [Astronomical Units]\n",
    "          \"pl_orbeccen\",#  7: Eccentricity\n",
    "          \"pl_orblper\",#  8: Periastron [degree]\n",
    "          \"longitude\", ##  9: Longitude [degree] https://github.com/OpenExoplanetCatalogue/open_exoplanet_catalogue/issues/292\n",
    "          \"ascendingnode\",#\"10: Ascending node [degree]\",\n",
    "          \"pl_orbincl\",#\"# 11: Inclination [degree]\n",
    "          \"pl_eqt\",# 12: Surface or equilibrium temperature [K]\n",
    "          \"pl_age\",# 13: Age [Gyr]\n",
    "          \"pl_discmethod\",#,14: Discovery method\n",
    "          \"pl_disc\",# 15:\" Discovery year [yyyy]\n",
    "          \"rowupdate\",# 16: Last updated [yy/mm/dd]\n",
    "          \"ra_str\",# 17: Right ascension [hh mm ss]\n",
    "          \"dec_str\",# 18: Declination [+/-dd mm ss]\n",
    "          \"st_dist\",# 19: Distance from Sun [parsec]\n",
    "          \"st_mass\",# 20: Host star mass [Solar masses]\n",
    "          \"st_rad\",# 21: Host star radius [Solar radii]\n",
    "          \"st_metfe\",# 22: Host star metallicity [log relative to solar]\n",
    "          \"st_teff\",# 23: Host star temperature [K],\"24: Host star age [Gyr]\"]\n",
    "          \"st_age\",# 24: Host star age [Gyr]\n",
    "          \"list\",#detection status list\n",
    "]\n",
    "          \n",
    "oec=astropy.io.ascii.read(oec_latest_tab,data_start=31,names=oec_cols,delimiter=\",\",guess=False)\n",
    "oec=oec[oec[\"list\"]==\"Confirmed planets\"]\n",
    "oec[\"pl_orbper\"].unit=u.day\n",
    "oec[\"st_dist\"].unit=u.parsec"
   ]
  },
  {
   "cell_type": "code",
   "execution_count": null,
   "metadata": {
    "collapsed": false,
    "nbpresent": {
     "id": "041d3119-63a5-41a0-babd-ce03350da14b"
    }
   },
   "outputs": [],
   "source": [
    "def scatter_with_labels(p,x,y,names,**kwargs):\n",
    "    #data source for mouseover\n",
    "    if isinstance(names[0],bytes):\n",
    "        names= [j.decode('utf-8') for j in names]\n",
    "    source = bokeh.models.ColumnDataSource(data=dict(\n",
    "        x=x,\n",
    "        y=y,\n",
    "        name=names, #convert bytes to strings\n",
    "    ))\n",
    "\n",
    "    p.scatter(x,y,line_color=None,source=source,**kwargs)\n",
    "tooltips=[(\"index\", \"$index\"),\n",
    "          (\"(x,y)\", \"(@x, @y)\"),\n",
    "          (\"name\", \"@name\")]"
   ]
  },
  {
   "cell_type": "code",
   "execution_count": null,
   "metadata": {
    "collapsed": false,
    "nbpresent": {
     "id": "531a32d2-115e-4a5f-a6cc-a05ec6a403e0"
    },
    "slideshow": {
     "slide_type": "slide"
    }
   },
   "outputs": [],
   "source": [
    "\n",
    "TOOLS=\"hover,crosshair,pan,wheel_zoom,box_zoom,undo,redo,reset,tap,save,box_select,poly_select,lasso_select\"\n",
    "\n",
    "p = bokeh.plotting.figure(tools=TOOLS, x_range=( 10000,0))\n",
    "\n",
    "p.scatter(exocat['st_teff'], (exocat['st_mass']), radius=50,\n",
    "          fill_color='gray', fill_alpha=0.5,legend=\"ExoCat\",\n",
    "          line_color=None)\n",
    "\n",
    "p.scatter(knownRV['st_teff'], (knownRV[\"st_mass\"]), radius=100,\n",
    "fill_color=\"orange\", fill_alpha=0.2,legend=\"Known RV\",\n",
    "          line_color=None)\n",
    "p.xaxis.axis_label = \"T [K]\"\n",
    "p.yaxis.axis_label = \"Mass [M_sun]\"\n",
    "bokeh.plotting.show(p)\n"
   ]
  },
  {
   "cell_type": "code",
   "execution_count": null,
   "metadata": {
    "collapsed": false,
    "nbpresent": {
     "id": "69eb8523-5592-45ee-9403-3cf958216713"
    },
    "scrolled": false,
    "slideshow": {
     "slide_type": "slide"
    }
   },
   "outputs": [],
   "source": [
    "\n",
    "hover = bokeh.models.HoverTool(tooltips=tooltips)\n",
    "tools=[hover]+[\"crosshair,pan,wheel_zoom,box_zoom,undo,redo,reset,tap,save,box_select,poly_select,lasso_select\"]\n",
    "p = bokeh.plotting.figure(tools=tools,y_axis_type='log', y_range=(1e-3,1e3) ,x_range=( 10000,0))\n",
    "\n",
    "scatter_with_labels(p,exocat['st_teff'],exocat['st_lbol'],\n",
    "                    exocat[\"hip_name\"],\n",
    "                    color=\"blue\",legend=\"exocat\",size=10,fill_alpha=0.1)\n",
    "\n",
    "scatter_with_labels(p,knownRV[\"st_teff\"],10**(knownRV[\"st_lum\"]), \n",
    "                    knownRV[\"pl_name\"],\n",
    "                    color=\"orange\",legend=\"Known RV\",size=10,fill_alpha=.3)\n",
    "\n",
    "p.title.text = \"H-R Diagram\"\n",
    "p.xaxis.axis_label = \"T [K]\"\n",
    "p.yaxis.axis_label = \"Luminousity [L_sun]\"\n",
    "bokeh.plotting.show(p)\n"
   ]
  },
  {
   "cell_type": "code",
   "execution_count": null,
   "metadata": {
    "collapsed": false,
    "nbpresent": {
     "id": "fef7f03b-448c-4fb8-bfec-99d22993eee4"
    }
   },
   "outputs": [],
   "source": []
  },
  {
   "cell_type": "code",
   "execution_count": null,
   "metadata": {
    "collapsed": false,
    "nbpresent": {
     "id": "de7bd81e-ed63-4f1b-85cf-ea436c9d7a11"
    },
    "slideshow": {
     "slide_type": "slide"
    }
   },
   "outputs": [],
   "source": [
    "\n",
    "hover = bokeh.models.HoverTool(tooltips=tooltips)\n",
    "tools=[hover]+[\"crosshair,pan,wheel_zoom,box_zoom,undo,redo,reset,tap,save,box_select,poly_select,lasso_select\"]\n",
    "p = bokeh.plotting.figure(tools=tools,y_axis_type='log', y_range=(1,1e3) ,x_range=( 10000,0))\n",
    "\n",
    "\n",
    "p.scatter(exocat['st_teff'], (exocat['st_dist']), \n",
    "                              exocat[\"hip_name\"],\n",
    "          size=5,\n",
    "          fill_color='gray', fill_alpha=0.2,legend=\"ExoCat\",\n",
    "          line_color=None)\n",
    "\n",
    "p.scatter(knownRV['st_teff'], (knownRV[\"st_dist\"]),\n",
    "                              knownRV[\"pl_name\"], size=10,\n",
    "          fill_color=\"blue\", fill_alpha=0.2,legend=\"Known RV\",\n",
    "          line_color=None)\n",
    "\n",
    "p.scatter(exoarchConfirmed['st_teff'], (exoarchConfirmed[\"st_dist\"]), size=10,\n",
    "fill_color=\"green\", fill_alpha=0.1,legend=\"IPAC Exoplanet Archive\",\n",
    "          line_color=None)\n",
    "p.xaxis.axis_label = \"T [K]\"\n",
    "p.yaxis.axis_label = \"distance [pc]\"\n",
    "bokeh.plotting.show(p)\n",
    "\n",
    "\n"
   ]
  },
  {
   "cell_type": "code",
   "execution_count": null,
   "metadata": {
    "collapsed": false,
    "nbpresent": {
     "id": "70a22ac9-a845-47d3-819a-8730a9e7af66"
    },
    "slideshow": {
     "slide_type": "slide"
    }
   },
   "outputs": [],
   "source": [
    "\n",
    "hover = bokeh.models.HoverTool(tooltips=tooltips)\n",
    "tools=[hover]+[\"crosshair,pan,wheel_zoom,box_zoom,undo,redo,reset,tap,save,box_select,poly_select,lasso_select\"]\n",
    "p = bokeh.plotting.figure(tools=tools,y_axis_type='log', y_range=(1,1e3) ,x_range=( 10000,0))\n",
    "\n",
    "scatter_with_labels(p,exocat['st_teff'], (exocat['st_dist']),\n",
    "                    exocat[\"hip_name\"],\n",
    "                    radius=50,\n",
    "          fill_color='gray', fill_alpha=0.2,legend=\"ExoCat\",)\n",
    "scatter_with_labels(p,knownRV['st_teff'], (knownRV[\"st_dist\"]), knownRV[\"pl_name\"],\n",
    "                    radius=100,\n",
    "                    fill_color=\"blue\", fill_alpha=0.2,legend=\"Known RV\",)\n",
    "scatter_with_labels(p,exoarchConfirmed['st_teff'], (exoarchConfirmed[\"st_dist\"]), exoarchConfirmed[\"pl_hostname\"],\n",
    "                    radius=100,\n",
    "                    fill_color=\"green\", fill_alpha=0.2,legend=\"IPAC Exoplanet Archive\",)\n",
    "p.xaxis.axis_label = \"T [K]\"\n",
    "p.yaxis.axis_label = \"distance [pc]\"\n",
    "bokeh.plotting.show(p)\n",
    "\n"
   ]
  },
  {
   "cell_type": "code",
   "execution_count": null,
   "metadata": {
    "collapsed": false,
    "nbpresent": {
     "id": "388752bf-0205-4e24-a5c9-a8f05a8bbbb6"
    },
    "slideshow": {
     "slide_type": "slide"
    }
   },
   "outputs": [],
   "source": [
    "hover = bokeh.models.HoverTool(tooltips=tooltips)\n",
    "tools=[hover]+[\"crosshair,pan,wheel_zoom,box_zoom,undo,redo,reset,tap,save,box_select,poly_select,lasso_select\"]\n",
    "\n",
    "p = bokeh.plotting.figure(tools=tools,x_axis_type=\"log\",  y_range=(-5, 35),x_range=(0, 25),  )\n",
    "\n",
    "scatter_with_labels(p,exoarchConfirmed[\"st_optmag\"],exoarchConfirmed[\"st_dist\"],\n",
    "                    exoarchConfirmed[\"pl_hostname\"],\n",
    "                    color=\"green\",legend=\"IPAC Exoplanet Archive\",\n",
    "                    size=12,fill_alpha=0.34)\n",
    "\n",
    "scatter_with_labels(p,knownRV[\"st_optmag\"],knownRV[\"st_dist\"], \n",
    "                    knownRV[\"pl_hostname\"],\n",
    "                    size=12,fill_alpha=0.34,\n",
    "                    color=\"blue\",legend=\"Known RV\")\n",
    "\n",
    "#bokeh.plotting.show(p)\n",
    "p.xaxis.axis_label = \"Optical Mag\"\n",
    "p.yaxis.axis_label = \"distance [pc]\"\n",
    "\n",
    "#what is optical mag? Johnson v_mag?\n",
    "\n",
    "\n"
   ]
  },
  {
   "cell_type": "code",
   "execution_count": null,
   "metadata": {
    "collapsed": true
   },
   "outputs": [],
   "source": [
    "hover = bokeh.models.HoverTool(tooltips=tooltips)\n",
    "\n",
    "\n",
    "tools=[hover]+[\"crosshair,pan,wheel_zoom,box_zoom,undo,redo,reset,tap,save,box_select,poly_select,lasso_select\"]\n",
    "\n",
    "p = bokeh.plotting.figure(tools=tools,x_axis_type=\"log\",  y_range=(-5, 35))#x_range=(0, 10000),  )\n",
    "\n",
    "scatter_with_labels(p,exoarchConfirmed[\"pl_orbper\"],exoarchConfirmed[\"st_dist\"],\n",
    "                    exoarchConfirmed[\"pl_hostname\"],\n",
    "                    color=\"gray\",legend=\"IPAC Exoplanet Archive\",size=6,fill_alpha=0.6)\n",
    "\n",
    "scatter_with_labels(p,knownRV[\"pl_orbper\"],knownRV[\"st_dist\"], \n",
    "                    knownRV[\"pl_hostname\"],\n",
    "                    color=\"blue\",legend=\"Known RV\",size=10,fill_alpha=.35)\n",
    "\n",
    "scatter_with_labels(p,oec[\"pl_orbper\"],oec[\"st_dist\"], \n",
    "                    oec[\"name\"],\n",
    "                    color=\"orange\",legend=\"Open Exoplanet Catalog Confirmed\",size=10,fill_alpha=.35)\n",
    "p.xaxis.axis_label = \"orbital period [d]\"\n",
    "p.yaxis.axis_label = \"distance [pc]\"\n",
    "\n"
   ]
  },
  {
   "cell_type": "code",
   "execution_count": null,
   "metadata": {
    "collapsed": false
   },
   "outputs": [],
   "source": [
    "hover = bokeh.models.HoverTool(tooltips=tooltips)\n",
    "\n",
    "def sep_as(dist,period):\n",
    "    '''\n",
    "    calculate the seperation in arcseconds\n",
    "    $p[years]^2=a[AU]^3$\n",
    "\n",
    "    s[\"]=a[AU]/d[pc]\n",
    "\n",
    "    $s[\"]=(p)^{2/3}/d$\n",
    "    '''\n",
    "    return (period.to(u.year).value**(2/3)/dist.to(u.parsec).value)\n",
    "\n",
    "tools=[hover]+[\"crosshair,pan,wheel_zoom,box_zoom,undo,redo,reset,tap,save,box_select,poly_select,lasso_select\"]\n",
    "\n",
    "p2 = bokeh.plotting.Figure(tools=tools,x_axis_type=\"log\",  y_range=(-5, 45),x_range=(1e-2, 40),  )\n",
    "#https://github.com/bokeh/bokeh/issues/3531\n",
    "\n",
    "scatter_with_labels(p2,sep_as(exoarchConfirmed[\"st_dist\"],exoarchConfirmed[\"pl_orbper\"]),\n",
    "                    exoarchConfirmed[\"st_dist\"],\n",
    "                     exoarchConfirmed[\"pl_hostname\"] +exoarchConfirmed[\"pl_letter\"],        \n",
    "                    color=\"gray\",legend=\"IPAC Exoplanet Archive\",size=10,fill_alpha=0.6)\n",
    "\n",
    "scatter_with_labels(p2,sep_as(knownRV[\"st_dist\"],knownRV[\"pl_orbper\"]),knownRV[\"st_dist\"], \n",
    "                    knownRV[\"pl_hostname\"] +knownRV[\"pl_letter\"],\n",
    "                    color=\"blue\",legend=\"EXOSIMS Known RV\",size=10,fill_alpha=.35)\n",
    "\n",
    "scatter_with_labels(p2,sep_as(oec[\"st_dist\"],oec[\"pl_orbper\"]),oec[\"st_dist\"], \n",
    "                    oec[\"name\"],\n",
    "                    color=\"orange\",legend=\"Open Exoplanet Catalog Confirmed\",size=10,fill_alpha=.35)\n",
    "p2.xaxis.axis_label = \"seperation [arcseconds]\"\n",
    "p2.yaxis.axis_label = \"distance [pc]\"\n",
    "\n",
    "\n",
    "p2.title.text = \"Seperation (from period, assuming circular orbits)\"\n",
    "\n",
    "\n",
    "bokeh.plotting.show(p2)"
   ]
  },
  {
   "cell_type": "code",
   "execution_count": null,
   "metadata": {
    "collapsed": false
   },
   "outputs": [],
   "source": [
    "\n"
   ]
  },
  {
   "cell_type": "code",
   "execution_count": null,
   "metadata": {
    "collapsed": true
   },
   "outputs": [],
   "source": [
    "bokeh.io.curdoc().clear()#https://github.com/bokeh/bokeh/issues/3943\n",
    "\n",
    "hover = bokeh.models.HoverTool(tooltips=tooltips)\n",
    "tools=[hover]+[\"crosshair,pan,wheel_zoom,box_zoom,undo,redo,reset,tap,save,box_select,poly_select,lasso_select\"]\n",
    "\n",
    "p1 = bokeh.plotting.Figure(tools=tools,x_axis_type=\"log\",  y_range=(-5, 45),x_range=(1e-3, 1000),  )\n",
    "\n",
    "scatter_with_labels(p1,exoarchConfirmed[\"pl_msinij\"],exoarchConfirmed[\"st_dist\"],\n",
    "                     exoarchConfirmed[\"pl_hostname\"] +exoarchConfirmed[\"pl_letter\"],        \n",
    "                    size=12,fill_alpha=0.6,\n",
    "                    color=\"gray\",legend=\"IPAC Exoplanet Archive\")\n",
    "\n",
    "scatter_with_labels(p1,knownRV[\"pl_msinij\"],knownRV[\"st_dist\"], \n",
    "                     knownRV[\"pl_hostname\"] +knownRV[\"pl_letter\"],\n",
    "                    size=12,fill_alpha=0.34,\n",
    "                    color=\"blue\",legend=\"EXOSIMS Known RV\")\n",
    "\n",
    "scatter_with_labels(p1,oec[\"pl_massj\"],oec[\"st_dist\"], \n",
    "                    oec[\"name\"],\n",
    "                    color=\"orange\",legend=\"Open Exoplanet Catalog Confirmed Planets\",size=10,fill_alpha=.35)\n",
    "p1.xaxis.axis_label = \"orbital period [d]\"\n",
    "scatter_with_labels(p1,oec[\"pl_massj\"],oec[\"st_dist\"],oec[\"name\"],\n",
    "                    size=10,color='orange',fill_alpha=.3)\n",
    "p1.xaxis.axis_label = \"msini [Jupiter]\"\n",
    "p1.yaxis.axis_label = \"distance [pc]\"\n",
    "p1.title.text = \"Catalogs last queried: \"+last_download_time"
   ]
  },
  {
   "cell_type": "code",
   "execution_count": null,
   "metadata": {
    "collapsed": false,
    "nbpresent": {
     "id": "1caee89c-9d05-4483-aa08-5f4563deac68"
    },
    "slideshow": {
     "slide_type": "slide"
    }
   },
   "outputs": [],
   "source": [
    "grid = bokeh.layouts.gridplot([p2,p1], ncols=2, plot_width=450, plot_height=500)\n",
    "bokeh.plotting.output_file(\"pc_msini_and_sep.html\", title=last_download_time)\n",
    "#bokeh.plotting.show(p)\n",
    "bokeh.plotting.show(grid)"
   ]
  },
  {
   "cell_type": "code",
   "execution_count": null,
   "metadata": {
    "collapsed": false
   },
   "outputs": [],
   "source": []
  },
  {
   "cell_type": "code",
   "execution_count": null,
   "metadata": {
    "collapsed": true
   },
   "outputs": [],
   "source": []
  }
 ],
 "metadata": {
  "anaconda-cloud": {},
  "kernelspec": {
   "display_name": "Python [conda env:wfirst]",
   "language": "python",
   "name": "conda-env-wfirst-py"
  },
  "language_info": {
   "codemirror_mode": {
    "name": "ipython",
    "version": 3
   },
   "file_extension": ".py",
   "mimetype": "text/x-python",
   "name": "python",
   "nbconvert_exporter": "python",
   "pygments_lexer": "ipython3",
   "version": "3.5.2"
  },
  "nbpresent": {
   "slides": {},
   "themes": {
    "default": "182d923d-0d77-439a-b52d-7cd0a5f04530",
    "theme": {}
   }
  }
 },
 "nbformat": 4,
 "nbformat_minor": 1
}
